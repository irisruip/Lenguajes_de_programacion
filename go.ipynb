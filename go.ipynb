{
 "cells": [
  {
   "cell_type": "markdown",
   "metadata": {},
   "source": [
    "<img src=\"https://go.dev/blog/go-brand/Go-Logo/PNG/Go-Logo_Blue.png\" alt=\"logoGo\" width=\"400\">\n",
    "\n",
    "#### <b>¿Qué es Go?</b>\n",
    "<b>Go</b> (también conocido como Golang) es un lenguaje de programación desarrollado por Google. Es conocido por su simplicidad, eficiencia y capacidad para manejar sistemas concurrentes de manera efectiva. Go es ideal para el desarrollo de aplicaciones web, servidores y herramientas de red. Algunas de las empreseas o sitios webs que utilizan Go son Uber, Docker, Twitch, Dropbox y Netflix. A su vez hay muchas más empresas que utilizan Go las cuales pueden verse en su sitio web https://go.dev\n",
    "\n"
   ]
  },
  {
   "cell_type": "markdown",
   "metadata": {},
   "source": [
    "#### <b>Instalación </b>\n",
    "\n",
    "Para instalar Go:\n",
    "1. Visita la página oficial: https://go.dev/\n",
    "2. Descarga el instalador correspondiente a tu sistema operativo.\n",
    "3. Sigue las instrucciones del instalador las cuales son iguales para sistemas Windows y MacOs pero que difieren en sistemas Linux.\n",
    "4. Verifica la instalación ejecutando el siguiente comando en la terminal `go version`"
   ]
  },
  {
   "cell_type": "markdown",
   "metadata": {},
   "source": [
    "#### <b>Comentarios</b>\n",
    "\n",
    "En Go los comentarios pueden ser de una sola línea o multilínea."
   ]
  },
  {
   "cell_type": "code",
   "execution_count": 57,
   "metadata": {},
   "outputs": [],
   "source": [
    "//Este es un comentario de una sola línea\n",
    "/*Este es\n",
    "un comentario múltiples líneas*/"
   ]
  },
  {
   "cell_type": "markdown",
   "metadata": {},
   "source": [
    "#### <b>Package e Import</b>\n",
    "\n",
    "Antes de hablar sobre las variables y tipos de datos es importante conocer que se debe utilizar lo siguiente:\n",
    "\n",
    "- <b>package </b>: Colección de archivos fuentes, podemos pensar que es un agrupador. En Go podemos tener 2 tipos de packages, los ejecutables (como el código que acabamos de hacer), y los reutilizables. Para identificar que un package es ejecutable o no, nos debemos fijar en su nombre; si el nombre del package es “main”, significa que es ejecutable, sino, es reutilizable, por ejemplo, los helpers o dependencias\n",
    "\n",
    "- <b>import </b>: Permite importar dependencias, en este caso, importamos fmt, el cual es una dependencia que permite formato de I/O\n"
   ]
  },
  {
   "cell_type": "code",
   "execution_count": 58,
   "metadata": {},
   "outputs": [],
   "source": [
    "package main\n",
    "import \"fmt\""
   ]
  },
  {
   "cell_type": "markdown",
   "metadata": {},
   "source": [
    " #### <b>Variables y Tipos de Datos</b>\n",
    "\n",
    " Go es un lenguaje de tipado en donde se pueden declarar variables de distintas formas.\n",
    "\n",
    " <i>Un lenguaje de programación es tipado cuando exige declarar el tipo de dato de las variables, estructuras de datos o funciones. Si no se hace, se produce un error. </i>"
   ]
  },
  {
   "cell_type": "code",
   "execution_count": 59,
   "metadata": {},
   "outputs": [
    {
     "name": "stdout",
     "output_type": "stream",
     "text": [
      "Leo 37\n"
     ]
    },
    {
     "data": {
      "text/plain": [
       "7 <nil>"
      ]
     },
     "execution_count": 59,
     "metadata": {},
     "output_type": "execute_result"
    }
   ],
   "source": [
    "//Declaración de variables\n",
    "var nombre string = \"Leo\" //Primera forma de definir una variable\n",
    "edad := 37 //Segunda forma de definir una variable\n",
    "fmt.Println(nombre, edad)"
   ]
  },
  {
   "cell_type": "markdown",
   "metadata": {},
   "source": [
    "Como se podrá ver en la salida no solo imprime el nombre y la edad sino que además imprime dos valores adicionales que los cuales quieren decir lo siguiente:\n",
    "\n",
    "- El primer valor es el número de bytes que fueron escritos, que es el valor 7 en este caso, porque la cadena \"Leo 37\" tiene 7 caracteres (incluyendo el espacio).\n",
    "\n",
    "- El segundo valor es un error (error en Go), que en este caso es nil, ya que no hubo ningún error al imprimir la cadena."
   ]
  },
  {
   "cell_type": "code",
   "execution_count": 60,
   "metadata": {},
   "outputs": [
    {
     "name": "stdout",
     "output_type": "stream",
     "text": [
      "Booleano:  true\n",
      "Integer:  5\n",
      "Float:    3.14\n",
      "String:   Queso\n"
     ]
    },
    {
     "data": {
      "text/plain": [
       "16 <nil>"
      ]
     },
     "execution_count": 60,
     "metadata": {},
     "output_type": "execute_result"
    }
   ],
   "source": [
    "//Tipos de datos\n",
    "var a bool = true     // Booleano\n",
    "var b int = 5         // Integer\n",
    "var c float32 = 3.14  // Float\n",
    "var d string = \"Queso\"  // String\n",
    "\n",
    "fmt.Println(\"Booleano: \", a)\n",
    "fmt.Println(\"Integer: \", b)\n",
    "fmt.Println(\"Float:   \", c)\n",
    "fmt.Println(\"String:  \", d)"
   ]
  },
  {
   "cell_type": "markdown",
   "metadata": {},
   "source": [
    " #### <b>Asignación de variables</b>\n",
    "\n",
    " Puedes asignar valores a las variables durante o después de su declaración."
   ]
  },
  {
   "cell_type": "code",
   "execution_count": 61,
   "metadata": {},
   "outputs": [
    {
     "name": "stdout",
     "output_type": "stream",
     "text": [
      "3 4\n"
     ]
    },
    {
     "data": {
      "text/plain": [
       "4 <nil>"
      ]
     },
     "execution_count": 61,
     "metadata": {},
     "output_type": "execute_result"
    }
   ],
   "source": [
    "//Asignación de variables\n",
    "var a int\n",
    "a = 3\n",
    "b := 4\n",
    "fmt.Println(a, b)"
   ]
  },
  {
   "cell_type": "markdown",
   "metadata": {},
   "source": [
    " #### <b>Operadores y Expresiones</b>\n",
    "\n",
    " Go soporta operadores aritméticos, de comparación y lógicos.\n",
    "\n",
    "| Operador               | Nombre                                                                                                                                           |\n",
    "|----------------------|---------------------------------------------------------------------------------------------------------------------------------------------------|\n",
    "| +               | Suma |\n",
    "| -               | Resta |\n",
    "| *               | Multiplicación |\n",
    "| /               | División |\n",
    "| %                | Módulo |\n",
    "| ++               | Incremento |\n",
    "| --               | Decremento |\n",
    "| ==               | Igual |\n",
    "| !=               | No igual |\n",
    "| >               | Mayor |\n",
    "| <               | Menor |\n",
    "| >=                | Mayor igual |\n",
    "| <=               | Menor igual |\n",
    "| &&              | and |\n",
    "| II               | or |\n",
    "| !               | not |"
   ]
  },
  {
   "cell_type": "code",
   "execution_count": 62,
   "metadata": {},
   "outputs": [
    {
     "name": "stdout",
     "output_type": "stream",
     "text": [
      "La suma es:  7\n",
      "La resta es:  1\n",
      "La multiplicación es:  12\n",
      "La división es:  1\n",
      "La operación módulo es:  1\n",
      "El número 1 incrementado es :  6\n",
      "El número 2 de disminuido es :  19\n",
      "Es igual?:  false\n",
      "No es igual?:  true\n",
      "Es mayor?:  true\n",
      "Es menor?:  false\n",
      "Es mayor igual?:  true\n",
      "Es menor igual?:  false\n",
      "x < 5 && x < 10 :  false\n",
      "x < 5 || x < 4:  false\n",
      "!(x < 5 && x < 10):  true\n"
     ]
    },
    {
     "data": {
      "text/plain": [
       "26 <nil>"
      ]
     },
     "execution_count": 62,
     "metadata": {},
     "output_type": "execute_result"
    }
   ],
   "source": [
    "//Operadores aritmeticos\n",
    "suma := 4+3\n",
    "resta := 4-3\n",
    "multiplicacion := 4*3\n",
    "division := 4/3\n",
    "modulo := 4 % 3\n",
    "numero1 := 5\n",
    "numero1++\n",
    "numero2 := 20\n",
    "numero2--\n",
    "\n",
    "//Operadores de comparación\n",
    "esMayor := 20 > 19\n",
    "esMenor := 20 < 19\n",
    "esMayorIgual := 20 >= 20\n",
    "esMenorIgual := 20 <= 19 \n",
    "\n",
    "//Operadores lógicos\n",
    "x := 5\n",
    "y := 4\n",
    "\n",
    "\n",
    "fmt.Println(\"La suma es: \", suma)\n",
    "fmt.Println(\"La resta es: \", resta)\n",
    "fmt.Println(\"La multiplicación es: \", multiplicacion)\n",
    "fmt.Println(\"La división es: \", division)\n",
    "fmt.Println(\"La operación módulo es: \", modulo)\n",
    "fmt.Println(\"El número 1 incrementado es : \", numero1)\n",
    "fmt.Println(\"El número 2 de disminuido es : \", numero2)\n",
    "fmt.Println(\"Es igual?: \", numero1==numero2)\n",
    "fmt.Println(\"No es igual?: \", numero1!=numero2)\n",
    "fmt.Println(\"Es mayor?: \", esMayor)\n",
    "fmt.Println(\"Es menor?: \", esMenor)\n",
    "fmt.Println(\"Es mayor igual?: \", esMayorIgual)\n",
    "fmt.Println(\"Es menor igual?: \", esMenorIgual)\n",
    "fmt.Println(\"x < 5 && x < 10 : \", x < 5 && x < 10)\n",
    "fmt.Println(\"x < 5 || x < 4: \", x < 5 || x < 4)\n",
    "fmt.Println(\"!(x < 5 && x < 10): \", !(x < 5 && x < 10))"
   ]
  },
  {
   "cell_type": "markdown",
   "metadata": {},
   "source": [
    " #### <b>Condicionales</b>\n",
    "\n",
    "Las estructuras condicionales incluyen `if`, `else if`, y `else`."
   ]
  },
  {
   "cell_type": "code",
   "execution_count": 63,
   "metadata": {},
   "outputs": [
    {
     "name": "stdout",
     "output_type": "stream",
     "text": [
      "Eres mayor de edad\n"
     ]
    }
   ],
   "source": [
    "// Condicionales\n",
    "edad := 20\n",
    "if edad >= 18 {\n",
    "    fmt.Println(\"Eres mayor de edad\")\n",
    "} else {\n",
    "    fmt.Println(\"Eres menor de edad\")\n",
    "}"
   ]
  },
  {
   "cell_type": "markdown",
   "metadata": {},
   "source": [
    " #### <b>Bucles</b>\n",
    "\n",
    "El bucle `for` recorre un bloque de código un número específico de veces.\n",
    "\n",
    "El bucle `for` es el único bucle disponible en Go.\n"
   ]
  },
  {
   "cell_type": "code",
   "execution_count": 64,
   "metadata": {},
   "outputs": [
    {
     "name": "stdout",
     "output_type": "stream",
     "text": [
      "0\n",
      "1\n",
      "2\n",
      "3\n",
      "4\n"
     ]
    }
   ],
   "source": [
    "//Bucle for\n",
    "for i := 0; i < 5; i++ {\n",
    "    fmt.Println(i)\n",
    "}"
   ]
  },
  {
   "cell_type": "markdown",
   "metadata": {},
   "source": [
    "#### <b>Funciones </b>\n",
    "\n",
    "Para crear (a menudo denominado declarar) una función, haga lo siguiente:\n",
    "\n",
    "- Utilice palabra clave `func`.\n",
    "- Especifique un nombre para la función, seguido de paréntesis ().\n",
    "- Por último, agregue el código que define lo que debe hacer la función, dentro de las llaves {}."
   ]
  },
  {
   "cell_type": "code",
   "execution_count": 65,
   "metadata": {},
   "outputs": [
    {
     "name": "stdout",
     "output_type": "stream",
     "text": [
      "Hola Mundo!\n"
     ]
    }
   ],
   "source": [
    "//Ejemplo\n",
    "\n",
    "func main() {\n",
    "\tfmt.Println(\"Hola Mundo!\")\n",
    "}\n",
    "\n",
    "main()\n",
    "\n"
   ]
  },
  {
   "cell_type": "markdown",
   "metadata": {},
   "source": [
    "### <b>Referencias </b>\n",
    "\n",
    "- https://www.w3schools.com/go/\n",
    "- https://normeno.medium.com/conociendo-golang-7135c25d4e20"
   ]
  }
 ],
 "metadata": {
  "kernelspec": {
   "display_name": "Go",
   "language": "go",
   "name": "gophernotes"
  },
  "language_info": {
   "codemirror_mode": "",
   "file_extension": ".go",
   "mimetype": "",
   "name": "go",
   "nbconvert_exporter": "",
   "pygments_lexer": "",
   "version": "go1.23.5"
  }
 },
 "nbformat": 4,
 "nbformat_minor": 2
}
