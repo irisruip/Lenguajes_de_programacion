{
 "cells": [
  {
   "cell_type": "markdown",
   "metadata": {},
   "source": [
    "<h1>Sintaxis Basica de Ruby</h1>"
   ]
  },
  {
   "cell_type": "markdown",
   "metadata": {},
   "source": [
    "<h3>Definición</h3>"
   ]
  },
  {
   "cell_type": "markdown",
   "metadata": {},
   "source": [
    "<h5>Ruby es un lenguaje de programación interpretado, reflexivo y orientado a objetos, creado por el programador japonés Yukihiro «Matz» Matsumoto, quien comenzó a trabajar en Ruby en 1993, y lo presentó públicamente en 1995. Combina una sintaxis inspirada en Python y Perl con características de programación orientada a objetos similares a Smalltalk.</h5>"
   ]
  },
  {
   "cell_type": "markdown",
   "metadata": {},
   "source": [
    "<h3>Caracteristicas</h3>"
   ]
  },
  {
   "cell_type": "markdown",
   "metadata": {},
   "source": [
    "<h5>1. Tipado Dinamico: Ruby es un lenguaje de tipado dinámico, lo que significa que no necesitas declarar el tipo de una variable. El tipo se infiere en tiempo de ejecución.</h5>"
   ]
  },
  {
   "cell_type": "code",
   "execution_count": null,
   "metadata": {
    "vscode": {
     "languageId": "plaintext"
    }
   },
   "outputs": [],
   "source": [
    "nombre = \"Juan\" # Cadena\n",
    "edad = 30       # Entero\n",
    "precio = 99.99  # Flotante"
   ]
  },
  {
   "cell_type": "markdown",
   "metadata": {},
   "source": [
    "<h5>2. Todo es un Objeto: En Ruby, absolutamente todo es un objeto, incluso los números y los literales. Esto significa que tienen métodos asociados.</h5>"
   ]
  },
  {
   "cell_type": "code",
   "execution_count": null,
   "metadata": {
    "vscode": {
     "languageId": "plaintext"
    }
   },
   "outputs": [],
   "source": [
    "5.times { puts \"Hola\" } # Imprime \"Hola\" 5 veces\n",
    "\"hola\".upcase # Devuelve \"HOLA\""
   ]
  },
  {
   "cell_type": "markdown",
   "metadata": {},
   "source": [
    "<h5>3. Comentarios</h5>"
   ]
  },
  {
   "cell_type": "code",
   "execution_count": null,
   "metadata": {
    "vscode": {
     "languageId": "plaintext"
    }
   },
   "outputs": [],
   "source": [
    "# Este es un comentario de una linea\n",
    "\n",
    "=begin\n",
    "Este es un\n",
    "comentario\n",
    "de múltiples líneas\n",
    "=end"
   ]
  },
  {
   "cell_type": "markdown",
   "metadata": {},
   "source": [
    "<h5>4. Variables: Los nombres de las variables comienzan con una letra minúscula o un guión bajo.</h5>"
   ]
  },
  {
   "cell_type": "markdown",
   "metadata": {},
   "source": [
    "<h5>5. Operadores: Ruby tiene operadores aritméticos (+, -, *, /, %), de comparación (==, !=, >, <, >=, <=), lógicos (&&, ||, !)</h5>"
   ]
  },
  {
   "cell_type": "markdown",
   "metadata": {},
   "source": [
    "<h5>6. Bloques: Los bloques son secciones de código que se pueden pasar a métodos. Se definen con do...end o con llaves {}</h5>"
   ]
  },
  {
   "cell_type": "code",
   "execution_count": null,
   "metadata": {
    "vscode": {
     "languageId": "plaintext"
    }
   },
   "outputs": [],
   "source": [
    "# Con do...end\n",
    "(1..5).each do |i|\n",
    "  puts i\n",
    "end\n",
    "\n",
    "# Con llaves\n",
    "(1..5).each { |i| puts i }"
   ]
  },
  {
   "cell_type": "markdown",
   "metadata": {},
   "source": [
    "<h5>7. Clases: Ruby es un lenguaje orientado a objetos. Las clases se definen con la palabra clave class</h5>"
   ]
  },
  {
   "cell_type": "code",
   "execution_count": null,
   "metadata": {
    "vscode": {
     "languageId": "plaintext"
    }
   },
   "outputs": [],
   "source": [
    "class Persona\n",
    "  def initialize(nombre)\n",
    "    @nombre = nombre # @ indica una variable de instancia\n",
    "  end\n",
    "\n",
    "  def saludar\n",
    "    puts \"Hola, soy #{@nombre}!\"\n",
    "  end\n",
    "end\n",
    "\n",
    "persona = Persona.new(\"Taylor\")\n",
    "persona.saludar # Imprime \"Hola, soy Taylor!\""
   ]
  },
  {
   "cell_type": "markdown",
   "metadata": {},
   "source": [
    "<h5>8. Strings (Cadenas): Se pueden definir con comillas simples (') o dobles (\"). Las comillas dobles permiten la interpolación de variables</h5>"
   ]
  },
  {
   "cell_type": "code",
   "execution_count": null,
   "metadata": {
    "vscode": {
     "languageId": "plaintext"
    }
   },
   "outputs": [],
   "source": [
    "nombre = \"Elena\"\n",
    "puts \"Mi nombre es #{nombre}\" # Interpolación\n",
    "puts 'Mi nombre es #{nombre}' # Sin interpolación (imprime literalmente #{nombre})"
   ]
  },
  {
   "cell_type": "markdown",
   "metadata": {},
   "source": [
    "<h5>9. Arrays (Arreglos): Se definen con corchetes []</h5>"
   ]
  },
  {
   "cell_type": "code",
   "execution_count": null,
   "metadata": {
    "vscode": {
     "languageId": "plaintext"
    }
   },
   "outputs": [],
   "source": [
    "numeros = [1, 2, 3, 4, 5]\n",
    "puts numeros[0] # Imprime 1"
   ]
  },
  {
   "cell_type": "markdown",
   "metadata": {},
   "source": [
    "<h5>10. Hashes (Diccionarios): Se definen con llaves {} y pares clave-valor</h5>"
   ]
  },
  {
   "cell_type": "code",
   "execution_count": null,
   "metadata": {
    "vscode": {
     "languageId": "plaintext"
    }
   },
   "outputs": [],
   "source": [
    "persona = { \"nombre\" => \"Pedro\", \"edad\" => 25 }\n",
    "puts persona[\"nombre\"] # Imprime \"Pedro\""
   ]
  }
 ],
 "metadata": {
  "language_info": {
   "name": "python"
  }
 },
 "nbformat": 4,
 "nbformat_minor": 2
}
