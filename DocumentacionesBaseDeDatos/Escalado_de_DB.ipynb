{
 "cells": [
  {
   "cell_type": "markdown",
   "metadata": {},
   "source": [
    "<h1>Escalado de bases de datos</h1>\n",
    "\n",
    "<h3> El escalado de bases de datos es el proceso en donde adaptamos la base de \n",
    "datos para que maneje mas datos y usuarios de una manera eficiente. El escalado de datos\n",
    "puede tener 2 enfoques, uno es a traves de la mejora del hardware existente (escalado vertical)\n",
    "y el otro enfoque es el de agregar mas servidores (escalado horizontal).</h3>\n",
    "\n",
    "<h1>- Indices de bases de datos</h1>\n",
    "\n",
    "<h3> Son estructuras de bases de datos que mejoran la velocidad al realizar operaciones de recuperacion de datos en un sistema gestor de bases de datos. <br>\n",
    "\n",
    "veamoslo asi, digamos que en una biblioteca nos mandan a buscar un articulo en 10 minutos. en lugar de buscar uno por uno lo ideal seria pedir acceso\n",
    "al indice de la biblioteca, el cual contiene la informacion necesaria para encontrar un articulo de forma eficiente. pues lo mismo aplica aqui, un indice en una base de datos contiene la informacion necesaria para encontrar datos de forma rapida y eficiente. </h3>"
   ]
  },
  {
   "cell_type": "code",
   "execution_count": 2,
   "metadata": {},
   "outputs": [
    {
     "data": {
      "text/plain": [
       "'\\nen este caso, se crea un indice llamado idx_apellido en la tabla empleados\\npara la columna apellido. esto va a hacer que las busquedas por apellido\\nsean mas rapidas. un indice adicional puede ser creado para cualquier\\ncolumna de una tabla, pero hay que tener en cuenta que los indices\\nadicionales ocupan espacio en disco y pueden hacer que las operaciones\\nde escritura sean mas lentas, por lo que no es recomendable crear indices\\nadicionales para todas las columnas de una tabla.\\n'"
      ]
     },
     "execution_count": 2,
     "metadata": {},
     "output_type": "execute_result"
    }
   ],
   "source": [
    "#ejemplo de creacion de un indice\n",
    "'''\n",
    "por defecto, las claves se guardan en un indice para su rapida busqueda,\n",
    "pero van a haber casos en donde queremos buscar datos que no sean claves,\n",
    "para eso se pueden crear indices adicionales. un ejemplo de esto seria\n",
    "una tabla de empleados, donde la clave sea el numero de empleado, pero\n",
    "queremos buscar empleados por su apellido, para eso se puede crear un\n",
    "indice adicional.\n",
    "'''\n",
    "\n",
    "#CREATE INDEX idx_apellido ON empleados(apellido);\n",
    "\n",
    "'''\n",
    "en este caso, se crea un indice llamado idx_apellido en la tabla empleados\n",
    "para la columna apellido. esto va a hacer que las busquedas por apellido\n",
    "sean mas rapidas. un indice adicional puede ser creado para cualquier\n",
    "columna de una tabla, pero hay que tener en cuenta que los indices\n",
    "adicionales ocupan espacio en disco y pueden hacer que las operaciones\n",
    "de escritura sean mas lentas, por lo que no es recomendable crear indices\n",
    "adicionales para todas las columnas de una tabla.\n",
    "'''\n",
    "\n"
   ]
  },
  {
   "cell_type": "markdown",
   "metadata": {},
   "source": [
    "<h1>- Replicacion de datos</h1>\n",
    "\n",
    "<h3>La replicación de datos es el proceso de crear y mantener múltiples copias de los mismos datos en diferentes ubicaciones o nodos de un sistema distribuido. Mejora la disponibilidad, la confiabilidad y el rendimiento de los datos al garantizar que estos permanezcan accesibles incluso si fallan uno o más nodos.</h3>\n",
    "\n",
    "<h1>- tipos de replicacion de datos</h1>\n",
    "\n",
    "<h3>\n",
    "\n",
    "- replicacion completa: se copia toda la base de datos en multiples servidores\n",
    "\n",
    "- replicacion parcial: solo se replican cierto subconjunto de datos o tablas\n",
    "\n",
    "- replicacion sincrona: los datos se copian en tiempo real a la base de datos\n",
    "replica\n",
    "\n",
    "- replicacion asincrona: los datos se replican despues de que la transaccion\n",
    "original se confirma en la base de datos principal\n",
    "\n",
    "- replicacion bidireccional: 2 o mas bases de datos pueden escribir y leer datos entre si\n",
    "\n",
    "</h3>"
   ]
  },
  {
   "cell_type": "code",
   "execution_count": null,
   "metadata": {},
   "outputs": [],
   "source": [
    "#ejemplo de replicacion de datos en sql/mariadb\n",
    "\n",
    "'''\n",
    "-- Configurar el servidor maestro\n",
    "CHANGE MASTER TO MASTER_HOST='192.168.1.10', MASTER_USER='replicador', MASTER_PASSWORD='clave';\n",
    "\n",
    "-- Iniciar la replicación en el esclavo\n",
    "START SLAVE;\n",
    "'''\n",
    "\n",
    "'''\n",
    "esta es una replica de un servidor maestro a un servidor esclavo. el servidor\n",
    "maestro es el que tiene los datos originales, y el esclavo es el que recibe\n",
    "los datos. para configurar la replicacion, primero se debe configurar el\n",
    "servidor maestro con el comando CHANGE MASTER TO, especificando la direccion\n",
    "ip del servidor esclavo, el usuario y la contraseña. luego, se debe iniciar\n",
    "la replicacion en el servidor esclavo con el comando START SLAVE.\n",
    "'''"
   ]
  }
 ],
 "metadata": {
  "kernelspec": {
   "display_name": "Python 3",
   "language": "python",
   "name": "python3"
  },
  "language_info": {
   "codemirror_mode": {
    "name": "ipython",
    "version": 3
   },
   "file_extension": ".py",
   "mimetype": "text/x-python",
   "name": "python",
   "nbconvert_exporter": "python",
   "pygments_lexer": "ipython3",
   "version": "3.12.8"
  }
 },
 "nbformat": 4,
 "nbformat_minor": 2
}
