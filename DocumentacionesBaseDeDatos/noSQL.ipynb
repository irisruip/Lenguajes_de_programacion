{
 "cells": [
  {
   "cell_type": "markdown",
   "metadata": {},
   "source": [
    "# <b>Base de datos noSQL</b>"
   ]
  },
  {
   "cell_type": "markdown",
   "metadata": {},
   "source": [
    "### <b>¿Qué son las bases de datos noSQL?</b>\n",
    "\n",
    "Las bases de datos noSQL (Not Only SQL), son un tipo de base datos que almacena información en un formato no tabular. Las bases de datos noSQL son flexibles, fáciles de desarrollar y configurar. Este tipo de base datos aparece debido a la necesidad de flexibilidad para almacenar distintos tipos de información no estructurada como documentos (PDF, Word, Excel), emails, mensajes de textos, elementos multimedia, publicaciones en redes sociales, entre otros. "
   ]
  },
  {
   "cell_type": "markdown",
   "metadata": {},
   "source": [
    "#### <b>Diferencias con bases de datos SQL</b>\n",
    "\n",
    "A continuación se nombrarán las principales diferencias entre las bases de datos SQL con las base de datos noSQL:\n",
    "\n",
    "- Las bases de datos SQL almacenan datos de manera estructurada y las noSQL lo hacen en su formato original.\n",
    "\n",
    "- Las SQL proporcionan una capacidad de escalar baja, en comparación con las noSQL.\n",
    "\n",
    "- La adaptación a los cambios de las SQL es poca y puede ser compleja. Sin embargo, las noSQL son totalmente flexibles.\n",
    "\n",
    "- Las bases de datos SQL están totalmente estandarizadas y las noSQL carecen de homogeneización.\n",
    "\n",
    "- Las SQL se utilizan en múltiples aplicaciones de todo tipo, las noSQL se utilizan principalmente con el manejo de grandes cantidades de información\n",
    "\n",
    "- Las bases de datos SQL proporcionan consistencia en los datos (integridad). Sin embargo, las noSQL, al buscar rapidez, no ponen el foco en esta característica.\n",
    "\n",
    "- La rapidez de ambas bases de datos va a depender del contexto o de su uso, por ejemplo, en datos estructurados las SQL son más rápidas, pero a su vez, el manejo de grandes cantidades de información no es estructurado y es ahí donde consiguen mucha mayor rapidez las noSQL."
   ]
  },
  {
   "cell_type": "markdown",
   "metadata": {},
   "source": [
    "#### <b>Tipos de bases datos noSQL</b>\n",
    "\n",
    "- **Base de datos de clave-valor**: organizan los datos en parejas de clave (un identificador) y valor, que son los datos asociados a ese identificador. Ejemplo, DynamoDB.\n",
    "\n",
    "- **Bases de datos de documentos**: organizan los datos en documentos o archivos, que suelen ser de formato JSON, en el cuál están todos los datos que se desean consumir. Ejemplo, MongoDB.\n",
    "\n",
    "- **Bases de datos de grafo**: tienen nodos y aristas, los nodos son un conjunto de información, por ejemplo un JSON, y las aristas son las conexiones entre ellos. Estas bases de datos se usan para construir conexiones. Ejemplo, Neo45J.\n",
    "\n",
    "<img src=\"https://edteam-media.s3.amazonaws.com/blogs/original/dea264bf-57c1-4b68-8034-d04fba6f3cfc.png\" alt=\"Tipos bbdd nosql\" width=\"550\" height=\"500\"> "
   ]
  },
  {
   "cell_type": "markdown",
   "metadata": {},
   "source": [
    "#### <b>Casos de Uso de Bases de Datos NoSQL  </b>\n",
    "\n",
    "Las bases de datos **noSQL** han ganado popularidad debido a su **escalabilidad, flexibilidad y alto rendimiento**, convirtiéndose en una excelente opción para diversas aplicaciones. A continuación, exploramos algunos de los principales casos de uso:  \n",
    "\n",
    "\n",
    "<ol>\n",
    "<li>Aplicaciones Web y Móviles con Alta Escalabilidad</li>\n",
    "<ul>  \n",
    "\n",
    "- **Ejemplo:** Facebook, Twitter, Instagram, TikTok.\n",
    "\n",
    "- **Razón:** Permiten manejar grandes volúmenes de datos generados por los usuarios en tiempo real sin afectar el rendimiento.\n",
    "</ul>\n",
    "\n",
    "\n",
    "\n",
    "<li>Sistemas de Big Data y Análisis en Tiempo Real</li>\n",
    "<ul> \n",
    " \n",
    "  - **Ejemplo:** Google Analytics, sistemas de monitoreo financiero.  \n",
    "  \n",
    "  - **Razón:** Facilitan la ingesta y consulta de grandes volúmenes de datos no estructurados o semi-estructurados con rapidez.  \n",
    "</ul>  \n",
    "\n",
    "\n",
    "<li>Videojuegos en Línea y Servicios de Streaming</li>  \n",
    "<ul>  \n",
    "\n",
    "  - **Ejemplo:** Fortnite, Netflix, Twitch.  \n",
    "\n",
    "  - **Razón:** Permiten almacenar datos de usuarios, partidas guardadas, interacciones y recomendaciones con baja latencia.  \n",
    "</ul>  \n",
    "\n",
    "<li>Internet de las Cosas (IoT)</li>  \n",
    "<ul>  \n",
    "\n",
    "  - **Ejemplo:** Dispositivos inteligentes como Alexa, Google Home, sensores industriales.  \n",
    "\n",
    "  - **Razón:** Almacenan datos de dispositivos en tiempo real y permiten una rápida recuperación para la automatización.  \n",
    "</ul>  \n",
    "\n",
    "<li>Comercio Electrónico y Gestión de Inventario</li>  \n",
    "<ul>  \n",
    "\n",
    "  - **Ejemplo:** Amazon, eBay, Mercado Libre.  \n",
    "\n",
    "  - **Razón:** Manejan grandes volúmenes de productos con estructuras flexibles y permiten búsquedas eficientes.  \n",
    "</ul>  \n",
    "\n",
    "<li>Finanzas y Blockchain</li>  \n",
    "<ul>  \n",
    "\n",
    "  - **Ejemplo:** Bitcoin, Ethereum, PayPal, Binance.  \n",
    "\n",
    "  - **Razón:** Necesitan almacenar transacciones con alta disponibilidad y seguridad, garantizando integridad y rapidez.  \n",
    "</ul>  \n",
    "\n",
    "<li>Inteligencia Artificial y Machine Learning</li>  \n",
    "<ul>  \n",
    "\n",
    "  - **Ejemplo:** Chatbots, sistemas de recomendación como Spotify y YouTube.  \n",
    "\n",
    "  - **Razón:** Permiten manejar datos de entrenamiento de modelos sin una estructura rígida.  \n",
    "</ul>  \n",
    "\n",
    "<li>Sector Salud y Registros Médicos</li>  \n",
    "<ul>  \n",
    "\n",
    "  - **Ejemplo:** Hospitales, aseguradoras, investigación médica.  \n",
    "  \n",
    "  - **Razón:** Almacenan información médica de pacientes en formatos flexibles y permiten un acceso eficiente a los registros.  \n",
    "</ul>  \n",
    "</ol>  "
   ]
  },
  {
   "cell_type": "markdown",
   "metadata": {},
   "source": [
    "## <b>Firebase</b>"
   ]
  },
  {
   "cell_type": "markdown",
   "metadata": {},
   "source": [
    "#### <b>¿Qué es Firebase?</b>\n",
    "\n",
    "**Firebase Realtime Database** es una plataforma de desarrollo de aplicaciones creada por Google que proporciona una variedad de servicios en la nube para el backend de aplicaciones web y móviles. Es especialmente popular por su integración con aplicaciones en tiempo real, su facilidad de uso y su escalabilidad."
   ]
  },
  {
   "cell_type": "markdown",
   "metadata": {},
   "source": [
    "#### <b>Características</b>\n",
    "\n",
    "<ol>\n",
    "<li>Base de Datos</li>\n",
    "Firestore y Realtime Database → Bases de datos NoSQL que permiten almacenar y sincronizar datos en tiempo real entre los clientes. <br><br>\n",
    "\n",
    "<li>Autenticación</li>\n",
    "Soporte para autenticación con Google, Facebook, Twitter, GitHub, email y más. <br><br>\n",
    "\n",
    "<li>Hosting</li>\n",
    "Proporciona un servicio de alojamiento rápido y seguro para aplicaciones web con HTTPS integrado. <br><br>\n",
    "\n",
    "<li>Funciones en la Nube (Cloud Functions)</li>\n",
    "Permite ejecutar código backend en respuesta a eventos, sin necesidad de servidores dedicados. <br><br>\n",
    "\n",
    "<li>Almacenamiento en la Nube</li>\n",
    "Cloud Storage para guardar imágenes, videos y archivos con escalabilidad automática. <br><br>\n",
    "\n",
    "<li>Notificaciones y Mensajería</li>\n",
    "Firebase Cloud Messaging (FCM) para enviar notificaciones push a dispositivos móviles y web. <br><br>\n",
    "\n",
    "<li>Análisis y Monitoreo</li>\n",
    "Firebase Analytics para obtener métricas sobre el comportamiento de los usuarios y el rendimiento de la aplicación. <br><br>\n",
    "</ol>"
   ]
  },
  {
   "cell_type": "markdown",
   "metadata": {},
   "source": [
    "#### <b>¿Cómo funciona?</b>\n",
    "\n",
    "**Firebase Realtime Database** permite desarrollar aplicaciones **colaborativas y en tiempo real**, proporcionando acceso seguro a los datos **directamente desde el cliente**.  \n",
    "\n",
    "**Persistencia y Sincronización**\n",
    "\n",
    "- **Acceso sin conexión**: Los datos se almacenan **de forma local**, permitiendo que la aplicación continúe funcionando sin conexión.  \n",
    "- **Eventos en tiempo real**: Incluso sin internet, los eventos siguen activándose, asegurando una experiencia fluida para el usuario.  \n",
    "- **Sincronización automática**: Cuando el dispositivo **se reconecta**, los datos locales se sincronizan con los cambios remotos, combinando automáticamente los conflictos.  \n",
    "\n",
    "**Seguridad y Control de Acceso**\n",
    "\n",
    "- Utiliza **Reglas de Seguridad de Firebase Realtime Database**, un lenguaje basado en expresiones, para definir la estructura de los datos y los permisos de acceso.  \n",
    "- Cuando se integra con **Firebase Authentication**, los desarrolladores pueden **gestionar el acceso** según el usuario y su rol.  \n",
    "\n",
    "**Base de Datos NoSQL**  \n",
    "\n",
    "Realtime Database es una **base de datos NoSQL**, diseñada para operaciones rápidas y escalables. A diferencia de una base de datos relacional:  \n",
    "- No utiliza estructuras rígidas como tablas y filas.  \n",
    "- Está optimizada para manejar grandes volúmenes de datos en tiempo real.  \n",
    "- Su API permite solo operaciones **rápidas y eficientes**, asegurando una experiencia fluida para millones de usuarios.  "
   ]
  },
  {
   "cell_type": "markdown",
   "metadata": {},
   "source": [
    "#### <b>¿Cómo implementarla?</b>\n",
    "Ruta de implementación \n",
    "\n",
    "| **#** | **Paso**                                      | **Descripción**                                                                                 |\n",
    "|-------|-----------------------------------------------|-------------------------------------------------------------------------------------------------|\n",
    "| 1     | Integra los SDK de Firebase Realtime Database | Incluye clientes rápidamente con Gradle, CocoaPods o una secuencia de comandos.                |\n",
    "| 2     | Crear referencias de Realtime Database         | Haz referencia a tus datos JSON, como `users/user:1234/phone_number`, para establecer o leer datos. |\n",
    "| 3     | Configurar datos y detectar cambios           | Usa estas referencias para escribir datos o suscribirte a cambios en tiempo real.              |\n",
    "| 4     | Habilitar la persistencia sin conexión        | Permite escribir datos en el disco local para que estén disponibles sin conexión.              |\n",
    "| 5     | Protege los datos                             | Utiliza las reglas de seguridad de Firebase Realtime Database para garantizar la protección.   |"
   ]
  },
  {
   "cell_type": "markdown",
   "metadata": {},
   "source": [
    "#### <b>Ejemplo</b>\n",
    "\n"
   ]
  },
  {
   "cell_type": "code",
   "execution_count": null,
   "metadata": {},
   "outputs": [
    {
     "name": "stdout",
     "output_type": "stream",
     "text": [
      "Firebase inicializado correctamente\n"
     ]
    }
   ],
   "source": [
    "import firebase_admin\n",
    "from firebase_admin import credentials, db\n",
    "from config import FIREBASE_DATABASE_URL\n",
    "\n",
    "# Ruta correcta según la estructura mostrada\n",
    "cred = credentials.Certificate(r\"c:\\Users\\USUARIO\\Desktop\\7mosemestre\\LenguajesdeProgramación\\NotebookGoPHPRustC\\Lenguajes_de_programacion\\DocumentacionesBaseDeDatos\\proyectonotebook-d5169-firebase-adminsdk-fbsvc-4ca1871114.json\")\n",
    "\n",
    "# Inicializar la aplicación de Firebase con un nombre único  \n",
    "firebase_admin.initialize_app(cred, {\n",
    "    'databaseURL': FIREBASE_DATABASE_URL\n",
    "})\n",
    "\n",
    "print(\"Firebase inicializado correctamente\")\n",
    "\n"
   ]
  },
  {
   "cell_type": "code",
   "execution_count": null,
   "metadata": {},
   "outputs": [
    {
     "name": "stdout",
     "output_type": "stream",
     "text": [
      "Datos guardados exitosamente\n"
     ]
    }
   ],
   "source": [
    "ref = db.reference('usuarios')\n",
    "ref.set({\n",
    "    'usuario1': {\n",
    "        'nombre': 'Juan',\n",
    "        'edad': 25\n",
    "    },\n",
    "    'usuario2': {\n",
    "        'nombre': 'María',\n",
    "        'edad': 30\n",
    "    }\n",
    "})\n",
    "print(\"Datos guardados exitosamente\")"
   ]
  },
  {
   "cell_type": "code",
   "execution_count": null,
   "metadata": {},
   "outputs": [
    {
     "name": "stdout",
     "output_type": "stream",
     "text": [
      "Datos recuperados: {'usuario1': {'nombre': 'Juan', 'edad': 25}, 'usuario2': {'nombre': 'María', 'edad': 30}}\n"
     ]
    }
   ],
   "source": [
    "ref = db.reference('usuarios')\n",
    "datos = ref.get()\n",
    "print(\"Datos recuperados:\", datos)\n"
   ]
  },
  {
   "cell_type": "code",
   "execution_count": null,
   "metadata": {},
   "outputs": [
    {
     "name": "stdout",
     "output_type": "stream",
     "text": [
      "Datos actualizados\n"
     ]
    }
   ],
   "source": [
    "ref = db.reference('usuarios/usuario1')\n",
    "ref.update({\n",
    "    'edad': 26\n",
    "})\n",
    "print(\"Datos actualizados\")"
   ]
  },
  {
   "cell_type": "code",
   "execution_count": 24,
   "metadata": {},
   "outputs": [
    {
     "name": "stdout",
     "output_type": "stream",
     "text": [
      "Usuario eliminado\n"
     ]
    }
   ],
   "source": [
    "ref = db.reference('usuarios/usuario2')\n",
    "ref.delete()\n",
    "print(\"Usuario eliminado\")"
   ]
  },
  {
   "cell_type": "code",
   "execution_count": 4,
   "metadata": {},
   "outputs": [
    {
     "data": {
      "image/png": "[encoded data removed]",
      "text/plain": [
       "<IPython.core.display.Image object>"
      ]
     },
     "metadata": {},
     "output_type": "display_data"
    }
   ],
   "source": [
    "from IPython.display import Image, display\n",
    "\n",
    "display(Image(filename=\"C:/Users/USUARIO/Desktop/7moSemestre/LenguajesdeProgramación/NotebookGoPHPRustC/Lenguajes_de_programacion/DocumentacionesBaseDeDatos/img/firebase.png\"))"
   ]
  },
  {
   "cell_type": "markdown",
   "metadata": {},
   "source": [
    "## <b>MongoDB</b>"
   ]
  },
  {
   "cell_type": "markdown",
   "metadata": {},
   "source": [
    "#### <b>¿Qué es MongoDB</b>"
   ]
  },
  {
   "cell_type": "markdown",
   "metadata": {},
   "source": [
    "#### <b>Características</b>"
   ]
  },
  {
   "cell_type": "markdown",
   "metadata": {},
   "source": [
    "#### <b>Cuando usarla</b>"
   ]
  },
  {
   "cell_type": "markdown",
   "metadata": {},
   "source": [
    "#### <b>Ejemplo</b>"
   ]
  },
  {
   "cell_type": "markdown",
   "metadata": {},
   "source": [
    "## Referencias\n",
    "\n",
    "- https://aws.amazon.com/es/nosql/\n",
    "- https://www.mongodb.com/es/resources/basics/databases/nosql-explained\n",
    "- https://www.unir.net/revista/ingenieria/nosql-vs-sql/\n",
    "- https://ed.team/blog/tipos-de-bases-de-datos-nosql\n",
    "- https://firebase.google.com/docs/database?hl=es-419\n"
   ]
  }
 ],
 "metadata": {
  "kernelspec": {
   "display_name": "Python 3",
   "language": "python",
   "name": "python3"
  },
  "language_info": {
   "codemirror_mode": {
    "name": "ipython",
    "version": 3
   },
   "file_extension": ".py",
   "mimetype": "text/x-python",
   "name": "python",
   "nbconvert_exporter": "python",
   "pygments_lexer": "ipython3",
   "version": "3.12.1"
  }
 },
 "nbformat": 4,
 "nbformat_minor": 2
}
