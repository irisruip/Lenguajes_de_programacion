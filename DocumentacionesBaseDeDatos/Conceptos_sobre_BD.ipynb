{
 "cells": [
  {
   "cell_type": "markdown",
   "metadata": {},
   "source": [
    "# <b>Conceptos sobre Bases de Datos</b>"
   ]
  },
  {
   "cell_type": "markdown",
   "metadata": {},
   "source": [
    "#### Constantemente se suelen usar tecnicas y propiedades para trabajar con bases de datos, y cada una de ellas tiene su nombre y funcion, a continuacion se mostraran dos conceptos basicos y de uso frecuente al trabajar con bases de datos"
   ]
  },
  {
   "cell_type": "markdown",
   "metadata": {},
   "source": [
    "### <b>1. ACID (Atomicity, Consistency, Isolation, Durability):</b>"
   ]
  },
  {
   "cell_type": "markdown",
   "metadata": {},
   "source": [
    "#### ACID es un conjunto de propiedades que garantizan la fiabilidad y consistencia de las transacciones en bases de datos relacionales. Estas propiedades son fundamentales para asegurar que las operaciones en la base de datos se ejecuten de manera segura, incluso en casos de fallos del sistema."
   ]
  },
  {
   "cell_type": "markdown",
   "metadata": {},
   "source": [
    "### <b>Componentes de ACID:</b>\n",
    "##### <b>Atomicity (Atomicidad):</b>\n",
    "\n",
    "##### Garantiza que una transacción se trata como una única unidad de trabajo.\n",
    "\n",
    "##### Si una parte de la transacción falla, toda la transacción se revierte (rollback), dejando la base de datos en su estado original.\n",
    "\n",
    "##### Ejemplo: En una transferencia bancaria, si el débito de una cuenta tiene éxito pero el crédito en otra cuenta falla, la transacción completa se revierte.\n",
    "\n",
    "##### <b>Consistency (Consistencia):</b>\n",
    "\n",
    "##### Asegura que una transacción lleve la base de datos de un estado válido a otro estado válido, respetando las reglas de integridad y constraints.\n",
    "\n",
    "##### Ejemplo: Si una base de datos tiene una regla que impide saldos negativos, una transacción que intente crear un saldo negativo será rechazada.\n",
    "\n",
    "##### <b>Isolation (Aislamiento):</b>\n",
    "\n",
    "##### Garantiza que las transacciones concurrentes no interfieran entre sí. Cada transacción se ejecuta de manera aislada, como si fuera la única en el sistema.\n",
    "\n",
    "##### Ejemplo: Si dos transacciones intentan modificar el mismo dato al mismo tiempo, una de ellas esperará a que la otra termine para evitar inconsistencias.\n",
    "\n",
    "##### <b>Durability (Durabilidad):</b>\n",
    "\n",
    "##### Asegura que una vez que una transacción ha sido confirmada (commit), los cambios son permanentes y sobreviven a fallos del sistema (como cortes de energía).\n",
    "\n",
    "##### Ejemplo: Después de confirmar una transacción, los datos se almacenan de manera persistente en disco, incluso si el servidor se reinicia.\n",
    "\n",
    "#### <b>Importancia de ACID:</b>\n",
    "##### Proporciona confiabilidad en operaciones críticas, como transacciones financieras o sistemas de reservas.\n",
    "\n",
    "##### Es esencial en bases de datos relacionales como MySQL, PostgreSQL y Oracle."
   ]
  },
  {
   "cell_type": "markdown",
   "metadata": {},
   "source": [
    "### <b>2. Sharding (Particionamiento):</b>"
   ]
  },
  {
   "cell_type": "markdown",
   "metadata": {},
   "source": [
    "#### Sharding es una técnica de escalabilidad horizontal que divide una base de datos en fragmentos más pequeños y manejables, llamados \"shards\". Cada shard se almacena en un servidor diferente, lo que permite distribuir la carga de trabajo y mejorar el rendimiento."
   ]
  },
  {
   "cell_type": "markdown",
   "metadata": {},
   "source": [
    "### <b>Características del Sharding:</b>\n",
    "##### <b>1. Distribución de datos:</b>\n",
    "\n",
    "##### Los datos se dividen en función de una clave de particionamiento (shard key), como un ID de usuario o una región geográfica.\n",
    "\n",
    "##### Ejemplo: En una base de datos de usuarios, los usuarios con IDs del 1 al 1000 van al Shard 1, y los del 1001 al 2000 van al Shard 2.\n",
    "\n",
    "##### <b>2. Escalabilidad horizontal:</b>\n",
    "\n",
    "##### Permite agregar más servidores (shards) a medida que crece la cantidad de datos, en lugar de depender de un solo servidor más grande (escalabilidad vertical).\n",
    "\n",
    "##### <b>3.Balanceo de carga:</b>\n",
    "\n",
    "##### Al distribuir los datos en múltiples servidores, se reduce la carga en cada uno, mejorando el rendimiento y la capacidad de respuesta.\n",
    "\n",
    "##### <b>4. Tolerancia a fallos:</b>\n",
    "\n",
    "##### Si un shard falla, solo se ve afectada una parte de los datos, no toda la base de datos.\n",
    "\n",
    "#### <b>Desafíos del Sharding:</b>\n",
    "\n",
    "##### Complejidad de implementación: Requiere un diseño cuidadoso de la clave de particionamiento y la lógica de enrutamiento.\n",
    "\n",
    "##### Consultas distribuidas: Las consultas que abarcan múltiples shards pueden ser más lentas y complejas.\n",
    "\n",
    "##### Reequilibrio de shards: A medida que crecen los datos, puede ser necesario redistribuir los shards entre servidores."
   ]
  },
  {
   "cell_type": "markdown",
   "metadata": {},
   "source": [
    "### <b>Ejemplo de Sharding en MongoDB:</b>"
   ]
  },
  {
   "cell_type": "markdown",
   "metadata": {},
   "source": [
    "#### MongoDB admite sharding de forma nativa. Aquí hay un ejemplo simplificado de cómo se podría configurar:"
   ]
  },
  {
   "cell_type": "code",
   "execution_count": null,
   "metadata": {},
   "outputs": [],
   "source": [
    "# Habilitar sharding para una base de datos\n",
    "sh.enableSharding(\"mi_base_de_datos\")\n",
    "\n",
    "# Crear un índice en la clave de sharding\n",
    "db.mi_coleccion.createIndex({ \"user_id\": 1 })\n",
    "\n",
    "# Configurar sharding para una colección\n",
    "sh.shardCollection(\"mi_base_de_datos.mi_coleccion\", { \"user_id\": 1 })"
   ]
  },
  {
   "cell_type": "markdown",
   "metadata": {},
   "source": [
    "#### En este caso, los datos se dividen en función del campo user_id."
   ]
  }
 ],
 "metadata": {
  "language_info": {
   "name": "python"
  }
 },
 "nbformat": 4,
 "nbformat_minor": 2
}
