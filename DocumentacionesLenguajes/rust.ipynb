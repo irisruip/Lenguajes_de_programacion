{
 "cells": [
  {
   "cell_type": "code",
   "execution_count": null,
   "id": "90843dc2-aa9b-418a-a960-b6893f7b5156",
   "metadata": {},
   "outputs": [],
   "source": [
    "Sintaxis Basica de Rust\n",
    "\n",
    "Definición\n",
    "\n",
    "Rust es un lenguaje de programación moderno, de propósito general, \n",
    "creado inicialmente por Graydon Hoare y desarrollado principalmente por Mozilla Research. \n",
    "Fue diseñado para ser seguro, rápido y concurrente, ofreciendo características que combinan el control bajo nivel (similar a C y C++) \n",
    "con una fuerte protección contra errores comunes, como condiciones de carrera y punteros nulos. Rust es ampliamente utilizado para \n",
    "desarrollar software de sistemas, aplicaciones de alto rendimiento y herramientas que requieren control eficiente del hardware, \n",
    "al tiempo que mantiene un enfoque en la seguridad y la facilidad de mantenimiento."
   ]
  },
  {
   "cell_type": "code",
   "execution_count": null,
   "id": "203b5d24-0fd2-477e-9460-11488590f151",
   "metadata": {},
   "outputs": [],
   "source": [
    "// 1. Hola Mundo\n",
    "println!(\"Hola, mundo!\");"
   ]
  },
  {
   "cell_type": "code",
   "execution_count": null,
   "id": "cf49e3bc-0964-4183-8a41-237d7ff91263",
   "metadata": {},
   "outputs": [],
   "source": [
    "// 2. Variables y Tipos\n",
    "let x: i32 = 10; // Variable inmutable\n",
    "let mut y: i32 = 20; // Variable mutable\n",
    "y += 5; // Modificando una variable mutable"
   ]
  },
  {
   "cell_type": "code",
   "execution_count": null,
   "id": "5a3ee1e8-e263-47e0-9431-fff2de4b9fc5",
   "metadata": {},
   "outputs": [],
   "source": [
    "// 3. Funciones\n",
    "fn suma(a: i32, b: i32) -> i32 {\n",
    "    a + b\n",
    "}\n",
    "let resultado = suma(5, 10);\n",
    "println!(\"La suma es: {}\", resultado);"
   ]
  },
  {
   "cell_type": "code",
   "execution_count": null,
   "id": "59fc61ca-4d6c-42ce-88fe-38dc3d5caa76",
   "metadata": {},
   "outputs": [],
   "source": [
    "// 4. Condicionales\n",
    "if x < y {\n",
    "    println!(\"x es menor que y\");\n",
    "} else {\n",
    "    println!(\"x es mayor o igual a y\");\n",
    "}"
   ]
  },
  {
   "cell_type": "code",
   "execution_count": null,
   "id": "d48c3bc2-70a1-4e85-9fae-4c95593ef6a6",
   "metadata": {},
   "outputs": [],
   "source": [
    "// 5. Bucles\n",
    "for i in 1..5 {\n",
    "    println!(\"Número: {}\", i); // Rango 1 a 4\n",
    "}\n",
    "\n",
    "let mut contador = 0;\n",
    "while contador < 3 {\n",
    "    println!(\"Contador: {}\", contador);\n",
    "    contador += 1;\n",
    "}"
   ]
  },
  {
   "cell_type": "code",
   "execution_count": null,
   "id": "cbed7b56-1bcc-4935-8dee-c95629e6ac57",
   "metadata": {},
   "outputs": [],
   "source": [
    "// 6. Estructuras\n",
    "struct Punto {\n",
    "    x: f64,\n",
    "    y: f64,\n",
    "}\n",
    "\n",
    "let punto = Punto { x: 1.0, y: 2.0 };\n",
    "println!(\"Punto: ({}, {})\", punto.x, punto.y);\n"
   ]
  },
  {
   "cell_type": "code",
   "execution_count": null,
   "id": "9d603da3-6790-4700-8700-7f7a6b0c23e4",
   "metadata": {},
   "outputs": [],
   "source": [
    "// 7. Enums\n",
    "enum Color {\n",
    "    Rojo,\n",
    "    Verde,\n",
    "    Azul,\n",
    "}\n",
    "\n",
    "let color_favorito = Color::Verde;\n",
    "match color_favorito {\n",
    "    Color::Rojo => println!(\"Color Rojo\"),\n",
    "    Color::Verde => println!(\"Color Verde\"),\n",
    "    Color::Azul => println!(\"Color Azul\"),\n",
    "}\n"
   ]
  },
  {
   "cell_type": "code",
   "execution_count": null,
   "id": "253d964c-c9eb-4ccb-b1ff-3d3370850a4a",
   "metadata": {},
   "outputs": [],
   "source": [
    "// 8. Vectores\n",
    "let mut numeros = vec![1, 2, 3, 4];\n",
    "numeros.push(5);\n",
    "println!(\"Vector: {:?}\", numeros);"
   ]
  },
  {
   "cell_type": "code",
   "execution_count": null,
   "id": "38b236a6-cef9-4201-9040-958ef9cc1f63",
   "metadata": {},
   "outputs": [],
   "source": [
    "// 9. Manejo de errores\n",
    "let resultado: Result<i32, &str> = Ok(42);\n",
    "match resultado {\n",
    "    Ok(valor) => println!(\"Éxito: {}\", valor),\n",
    "    Err(mensaje) => println!(\"Error: {}\", mensaje),\n",
    "}"
   ]
  },
  {
   "cell_type": "code",
   "execution_count": null,
   "id": "8e2d7d3d-b94f-4522-aec0-282a1b4c3762",
   "metadata": {},
   "outputs": [],
   "source": []
  }
 ],
 "metadata": {
  "kernelspec": {
   "display_name": "Python 3 (ipykernel)",
   "language": "python",
   "name": "python3"
  },
  "language_info": {
   "codemirror_mode": {
    "name": "ipython",
    "version": 3
   },
   "file_extension": ".py",
   "mimetype": "text/x-python",
   "name": "python",
   "nbconvert_exporter": "python",
   "pygments_lexer": "ipython3",
   "version": "3.13.0"
  }
 },
 "nbformat": 4,
 "nbformat_minor": 5
}
