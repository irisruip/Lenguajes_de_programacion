{
 "cells": [
  {
   "cell_type": "markdown",
   "metadata": {},
   "source": [
    "# **Documentación sobre Dart, Kotlin y Swift**"
   ]
  },
  {
   "cell_type": "markdown",
   "metadata": {},
   "source": [
    "## **Dart**\n",
    "\n",
    "**Dart** es un lenguaje de programación desarrollado por Google. Fue lanzado en 2011 y está diseñado para ser rápido, productivo y escalable. Dart es un lenguaje **orientado a objetos** y **compilado**, lo que significa que el código se convierte en código nativo antes de ejecutarse, lo que lo hace muy eficiente."
   ]
  },
  {
   "cell_type": "markdown",
   "metadata": {},
   "source": [
    "## **Características principales de Dart:**\n",
    "- **Orientado a objetos**: Soporta clases, herencia, interfaces y mixins.\n",
    "- **Tipado estático**: Aunque también permite tipado dinámico con `dynamic`.\n",
    "- **Compilación AOT (Ahead-of-Time) y JIT (Just-in-Time)**:\n",
    "  - **AOT**: Compila el código a código nativo para mejorar el rendimiento en producción.\n",
    "  - **JIT**: Permite recargar en caliente (hot reload) durante el desarrollo.\n",
    "- **Garbage collection**: Gestión automática de memoria.\n",
    "- **Asincronía**: Soporta `async` y `await` para operaciones asíncronas.\n"
   ]
  },
  {
   "cell_type": "markdown",
   "metadata": {},
   "source": [
    "### **¿Para qué se usa Dart?**\n",
    "- **Desarrollo de aplicaciones móviles**: Dart es el lenguaje principal de **Flutter**, un framework para crear aplicaciones multiplataforma.\n",
    "- **Desarrollo web**: Dart puede compilarse a JavaScript para aplicaciones web.\n",
    "- **Scripting**: Dart puede usarse para scripts y herramientas de línea de comandos."
   ]
  },
  {
   "cell_type": "markdown",
   "metadata": {},
   "source": [
    "### **¿Cómo se obtiene Dart?**\n",
    "\n",
    "Dart se puede instalar de varias formas, pero la más común es junto con **Flutter**, ya que Flutter incluye Dart en su instalación.\n"
   ]
  },
  {
   "cell_type": "markdown",
   "metadata": {},
   "source": [
    "### Instalación de Dart:\n",
    "1. **Con Flutter**:\n",
    "   - Al instalar Flutter, Dart se instala automáticamente.\n",
    "   - Descarga Flutter desde [flutter.dev](https://flutter.dev).\n",
    "   - Ejecuta `flutter doctor` para verificar que Dart esté instalado correctamente.\n",
    "\n",
    "2. **Instalación independiente**:\n",
    "   - Si solo deseas Dart, puedes descargarlo desde [dart.dev](https://dart.dev).\n",
    "   - Sigue las instrucciones para tu sistema operativo (Windows, macOS, Linux).\n",
    "\n",
    "### Verificar la instalación:\n",
    "- Ejecuta el siguiente comando en la terminal:\n",
    "  ```bash\n",
    "  dart --version"
   ]
  },
  {
   "cell_type": "markdown",
   "metadata": {},
   "source": [
    "### **¿Qué es Flutter?**\n",
    "Flutter es un **framework de desarrollo multiplataforma** creado por Google. Permite crear aplicaciones nativas para **iOS, Android, Web, Windows, macOS y Linux** desde un solo código base."
   ]
  },
  {
   "cell_type": "markdown",
   "metadata": {},
   "source": [
    "### **¿Cómo se usa junto a Dart?**\n",
    "- **Dart** es el lenguaje de programación oficial de Flutter.\n",
    "- Flutter usa Dart para definir la lógica de la aplicación, la interfaz de usuario (mediante widgets) y la interacción con el sistema operativo.\n",
    "- Dart es **compilado a código nativo**, lo que garantiza un alto rendimiento."
   ]
  },
  {
   "cell_type": "markdown",
   "metadata": {},
   "source": [
    "### **Ventajas de Dart y Flutter**\n",
    "\n",
    "**Ventajas de Dart:**\n",
    "1. **Rendimiento**: Compilación AOT (a código nativo) y JIT (para desarrollo rápido).\n",
    "2. **Productividad**: Sintaxis sencilla y hot reload.\n",
    "3. **Flexibilidad**: Usado para móvil, web y scripting.\n",
    "\n",
    "**Ventajas de Flutter:**\n",
    "1. **Multiplataforma**: Un solo código base para iOS, Android, web y más.\n",
    "2. **Widgets personalizables**: Interfaces de usuario únicas y flexibles.\n",
    "3. **Hot Reload**: Cambios en tiempo real sin reiniciar la app.\n",
    "4. **Comunidad activa**: Gran soporte y documentación.\n",
    "\n",
    "**Desventajas de Dart y Flutter**\n",
    "\n",
    "**Desventajas de Dart:**\n",
    "1. **Menos popular**: No tan extendido como JavaScript o Python.\n",
    "2. **Ecosistema limitado**: Menos bibliotecas y frameworks comparado con otros lenguajes.\n",
    "\n",
    "**Desventajas de Flutter:**\n",
    "1. **Tamaño de la app**: Las aplicaciones pueden ser más grandes que las nativas.\n",
    "2. **Curva de aprendizaje**: Requiere entender conceptos como widgets y estado.\n"
   ]
  },
  {
   "cell_type": "markdown",
   "metadata": {},
   "source": [
    "### **Aplicaciones destacadas**\n",
    "- **Con Flutter**: Google Ads, Alibaba, Reflectly, Hamilton (App Oficial del Musical de Hamilton).\n",
    "- **Con Dart**: AngularDart (web) y scripting.\n",
    "\n",
    "\n"
   ]
  },
  {
   "cell_type": "markdown",
   "metadata": {},
   "source": [
    "## **App de Ejemplo**\n",
    "\n",
    "---"
   ]
  },
  {
   "cell_type": "markdown",
   "metadata": {},
   "source": [
    "## **Kotlin**"
   ]
  },
  {
   "cell_type": "markdown",
   "metadata": {},
   "source": [
    "### **¿Qué es Kotlin?**\n",
    "\n",
    "Kotlin es un **lenguaje de programación moderno**, estáticamente tipado y de propósito general, desarrollado por **JetBrains**. Es completamente interoperable con Java y se utiliza principalmente para el desarrollo de aplicaciones Android, aunque también se puede usar para desarrollo web, backend, y más."
   ]
  },
  {
   "cell_type": "markdown",
   "metadata": {},
   "source": [
    "### **Características de Kotlin**\n",
    "\n",
    "1. **Interoperable con Java**: Puedes usar Kotlin y Java en el mismo proyecto sin problemas.\n",
    "2. **Sintaxis concisa**: Menos código repetitivo comparado con Java.\n",
    "3. **Seguro contra nulos**: Evita errores comunes de `NullPointerException`.\n",
    "4. **Funciones de extensión**: Añade funcionalidades a clases existentes sin modificar su código.\n",
    "5. **Corrutinas**: Soporte nativo para programación asíncrona.\n",
    "6. **Multiplataforma**: Puedes usar Kotlin para Android, iOS, web, backend, y más.\n",
    "7. **Open Source**: Kotlin es completamente gratuito y de código abierto.\n"
   ]
  },
  {
   "cell_type": "markdown",
   "metadata": {},
   "source": [
    "### **¿Cómo funciona Kotlin?**\n",
    "\n",
    "- Kotlin se compila a **bytecode de la JVM** (Java Virtual Machine), lo que lo hace compatible con Java.\n",
    "- También puede compilarse a **JavaScript** (para desarrollo web) o a **binarios nativos** (usando Kotlin/Native).\n",
    "- Kotlin es un lenguaje **estáticamente tipado**, lo que significa que los tipos de datos se verifican en tiempo de compilación, reduciendo errores en tiempo de ejecución."
   ]
  },
  {
   "cell_type": "markdown",
   "metadata": {},
   "source": [
    "### **¿Cómo utilizar Kotlin en VSCode?**\n",
    "\n",
    "### **Requisitos:**\n",
    "1. **Java Development Kit (JDK)**: Asegúrate de tener instalado el JDK (versión 8 o superior).\n",
    "2. **Extensión de Kotlin**: Instala la extensión oficial de Kotlin en VSCode.\n",
    "\n",
    "### **Pasos para configurar Kotlin en VSCode:**\n",
    "1. **Instalar la extensión de Kotlin**:\n",
    "   - Abre VSCode.\n",
    "   - Ve a la pestaña **Extensions** (Ctrl + Shift + X).\n",
    "   - Busca \"Kotlin\" e instala la extensión oficial.\n",
    "\n",
    "2. **Configurar el compilador de Kotlin**:\n",
    "   - Descarga el compilador de Kotlin desde [kotlinlang.org](https://kotlinlang.org/).\n",
    "   - Agrega la ruta del compilador a las variables de entorno de tu sistema.\n",
    "\n",
    "3. **Crear un proyecto Kotlin**:\n",
    "   - Crea una carpeta para tu proyecto.\n",
    "   - Abre la carpeta en VSCode.\n",
    "   - Crea un archivo `.kt` (por ejemplo, `Main.kt`).\n",
    "\n",
    "4. **Ejecutar el código Kotlin**:\n",
    "   - Usa la terminal integrada de VSCode para compilar y ejecutar tu código:\n",
    "     ```bash\n",
    "     kotlinc Main.kt -include-runtime -d Main.jar\n",
    "     java -jar Main.jar\n",
    "     ```\n"
   ]
  },
  {
   "cell_type": "markdown",
   "metadata": {},
   "source": [
    "### **Ejemplo de código en Kotlin**\n",
    "\n",
    "En este ejemplo se imprimirá un \"¡Hola, Mundo!\":\n",
    "\n",
    "```kotlin\n",
    "fun main() {\n",
    "    println(\"¡Hola, Mundo!\")\n",
    "}"
   ]
  },
  {
   "cell_type": "markdown",
   "metadata": {},
   "source": [
    "---"
   ]
  },
  {
   "cell_type": "markdown",
   "metadata": {},
   "source": [
    "# **Swift**"
   ]
  },
  {
   "cell_type": "markdown",
   "metadata": {},
   "source": [
    "### **¿Qué es Swift?**\n",
    "\n",
    "Swift es un **lenguaje de programación moderno y seguro**, desarrollado por **Apple** en 2014. Está diseñado para ser rápido, eficiente y fácil de usar, y es el lenguaje principal para desarrollar aplicaciones en el ecosistema de Apple (iOS, macOS, watchOS y tvOS)."
   ]
  },
  {
   "cell_type": "markdown",
   "metadata": {},
   "source": [
    "### **Características de Swift**\n",
    "\n",
    "1. **Seguro y rápido**: Diseñado para evitar errores comunes y optimizado para rendimiento.\n",
    "2. **Sintaxis clara y concisa**: Menos código repetitivo comparado con Objective-C.\n",
    "3. **Seguro contra nulos**: Usa opcionales para manejar valores nulos de manera segura.\n",
    "4. **Interoperable con Objective-C**: Puedes usar Swift y Objective-C en el mismo proyecto.\n",
    "5. **Open Source**: Swift es de código abierto y tiene una comunidad activa.\n",
    "6. **Multiplataforma**: Aunque está enfocado en el ecosistema de Apple, también se puede usar en Linux y servidores."
   ]
  },
  {
   "cell_type": "markdown",
   "metadata": {},
   "source": [
    "### **¿Cómo funciona Swift?**\n",
    "\n",
    "- Swift se compila a **código máquina optimizado**, lo que lo hace extremadamente rápido.\n",
    "- Usa el **LLVM compiler framework**, el mismo que usa Clang para C y C++.\n",
    "- Es un lenguaje **estáticamente tipado**, lo que significa que los tipos de datos se verifican en tiempo de compilación, reduciendo errores en tiempo de ejecución."
   ]
  },
  {
   "cell_type": "markdown",
   "metadata": {},
   "source": [
    "### **Pasos para configurar Swift en VSCode:**\n",
    "1. **Instalar Xcode** (en macOS):\n",
    "   - Abre la App Store y descarga Xcode.\n",
    "   - Xcode incluye el compilador de Swift y todas las herramientas necesarias.\n",
    "\n",
    "2. **Instalar la extensión de Swift**:\n",
    "   - Abre VSCode.\n",
    "   - Ve a la pestaña **Extensions** (Ctrl + Shift + X).\n",
    "   - Busca \"Swift\" e instala la extensión oficial.\n",
    "\n",
    "3. **Crear un proyecto Swift**:\n",
    "   - Crea una carpeta para tu proyecto.\n",
    "   - Abre la carpeta en VSCode.\n",
    "   - Crea un archivo `.swift` (por ejemplo, `Main.swift`).\n",
    "\n",
    "4. **Ejecutar el código Swift**:\n",
    "   - Usa la terminal integrada de VSCode para compilar y ejecutar tu código:\n",
    "     ```bash\n",
    "     swift Main.swift\n",
    "     ```"
   ]
  },
  {
   "cell_type": "markdown",
   "metadata": {},
   "source": [
    "### **Ejemplo de código en Swift**\n",
    "\n",
    "Al igual que en la documentación de Kotlin, aquí el ejemplo será un \"¡Hola, Mundo!\":\n",
    "\n",
    "```swift\n",
    "import Foundation\n",
    "\n",
    "func main() {\n",
    "    print(\"¡Hola, Mundo!\")\n",
    "}\n",
    "\n",
    "main()"
   ]
  },
  {
   "cell_type": "markdown",
   "metadata": {},
   "source": [
    "## **Referencias**\n",
    "\n"
   ]
  }
 ],
 "metadata": {
  "language_info": {
   "name": "python"
  }
 },
 "nbformat": 4,
 "nbformat_minor": 2
}
