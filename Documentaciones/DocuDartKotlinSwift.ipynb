{
 "cells": [
  {
   "cell_type": "markdown",
   "metadata": {},
   "source": [
    "# **Documentación sobre Dart, Kotlin y Swift**"
   ]
  },
  {
   "cell_type": "markdown",
   "metadata": {},
   "source": [
    "## **Dart**\n",
    "\n",
    "**Dart** es un lenguaje de programación desarrollado por Google. Fue lanzado en 2011 y está diseñado para ser rápido, productivo y escalable. Dart es un lenguaje **orientado a objetos** y **compilado**, lo que significa que el código se convierte en código nativo antes de ejecutarse, lo que lo hace muy eficiente."
   ]
  },
  {
   "cell_type": "markdown",
   "metadata": {},
   "source": [
    "## **Características principales de Dart:**\n",
    "- **Orientado a objetos**: Soporta clases, herencia, interfaces y mixins.\n",
    "- **Tipado estático**: Aunque también permite tipado dinámico con `dynamic`.\n",
    "- **Compilación AOT (Ahead-of-Time) y JIT (Just-in-Time)**:\n",
    "  - **AOT**: Compila el código a código nativo para mejorar el rendimiento en producción.\n",
    "  - **JIT**: Permite recargar en caliente (hot reload) durante el desarrollo.\n",
    "- **Garbage collection**: Gestión automática de memoria.\n",
    "- **Asincronía**: Soporta `async` y `await` para operaciones asíncronas.\n"
   ]
  },
  {
   "cell_type": "markdown",
   "metadata": {},
   "source": [
    "### **¿Para qué se usa Dart?**\n",
    "- **Desarrollo de aplicaciones móviles**: Dart es el lenguaje principal de **Flutter**, un framework para crear aplicaciones multiplataforma.\n",
    "- **Desarrollo web**: Dart puede compilarse a JavaScript para aplicaciones web.\n",
    "- **Scripting**: Dart puede usarse para scripts y herramientas de línea de comandos."
   ]
  },
  {
   "cell_type": "markdown",
   "metadata": {},
   "source": [
    "### **¿Cómo se obtiene Dart?**\n",
    "\n",
    "Dart se puede instalar de varias formas, pero la más común es junto con **Flutter**, ya que Flutter incluye Dart en su instalación.\n"
   ]
  },
  {
   "cell_type": "markdown",
   "metadata": {},
   "source": [
    "### Instalación de Dart:\n",
    "1. **Con Flutter**:\n",
    "   - Al instalar Flutter, Dart se instala automáticamente.\n",
    "   - Descarga Flutter desde [flutter.dev](https://flutter.dev).\n",
    "   - Ejecuta `flutter doctor` para verificar que Dart esté instalado correctamente.\n",
    "\n",
    "2. **Instalación independiente**:\n",
    "   - Si solo deseas Dart, puedes descargarlo desde [dart.dev](https://dart.dev).\n",
    "   - Sigue las instrucciones para tu sistema operativo (Windows, macOS, Linux).\n",
    "\n",
    "### Verificar la instalación:\n",
    "- Ejecuta el siguiente comando en la terminal:\n",
    "  ```bash\n",
    "  dart --version"
   ]
  },
  {
   "cell_type": "markdown",
   "metadata": {},
   "source": [
    "### **¿Qué es Flutter?**\n",
    "Flutter es un **framework de desarrollo multiplataforma** creado por Google. Permite crear aplicaciones nativas para **iOS, Android, Web, Windows, macOS y Linux** desde un solo código base."
   ]
  },
  {
   "cell_type": "markdown",
   "metadata": {},
   "source": [
    "### **¿Cómo se usa junto a Dart?**\n",
    "- **Dart** es el lenguaje de programación oficial de Flutter.\n",
    "- Flutter usa Dart para definir la lógica de la aplicación, la interfaz de usuario (mediante widgets) y la interacción con el sistema operativo.\n",
    "- Dart es **compilado a código nativo**, lo que garantiza un alto rendimiento."
   ]
  },
  {
   "cell_type": "markdown",
   "metadata": {},
   "source": [
    "### **Ventajas de Dart y Flutter**\n",
    "\n",
    "**Ventajas de Dart:**\n",
    "1. **Rendimiento**: Compilación AOT (a código nativo) y JIT (para desarrollo rápido).\n",
    "2. **Productividad**: Sintaxis sencilla y hot reload.\n",
    "3. **Flexibilidad**: Usado para móvil, web y scripting.\n",
    "\n",
    "**Ventajas de Flutter:**\n",
    "1. **Multiplataforma**: Un solo código base para iOS, Android, web y más.\n",
    "2. **Widgets personalizables**: Interfaces de usuario únicas y flexibles.\n",
    "3. **Hot Reload**: Cambios en tiempo real sin reiniciar la app.\n",
    "4. **Comunidad activa**: Gran soporte y documentación.\n",
    "\n",
    "**Desventajas de Dart y Flutter**\n",
    "\n",
    "**Desventajas de Dart:**\n",
    "1. **Menos popular**: No tan extendido como JavaScript o Python.\n",
    "2. **Ecosistema limitado**: Menos bibliotecas y frameworks comparado con otros lenguajes.\n",
    "\n",
    "**Desventajas de Flutter:**\n",
    "1. **Tamaño de la app**: Las aplicaciones pueden ser más grandes que las nativas.\n",
    "2. **Curva de aprendizaje**: Requiere entender conceptos como widgets y estado.\n"
   ]
  },
  {
   "cell_type": "markdown",
   "metadata": {},
   "source": [
    "### **Aplicaciones destacadas**\n",
    "- **Con Flutter**: Google Ads, Alibaba, Reflectly, Hamilton (App Oficial del Musical de Hamilton).\n",
    "- **Con Dart**: AngularDart (web) y scripting.\n",
    "\n",
    "\n"
   ]
  },
  {
   "cell_type": "markdown",
   "metadata": {},
   "source": [
    "## **App de Ejemplo**\n",
    "\n",
    "---"
   ]
  },
  {
   "cell_type": "markdown",
   "metadata": {},
   "source": [
    "## **Kotlin**"
   ]
  },
  {
   "cell_type": "markdown",
   "metadata": {},
   "source": [
    "### **¿Qué es Kotlin?**"
   ]
  },
  {
   "cell_type": "markdown",
   "metadata": {},
   "source": [
    "### **Para que sirve**"
   ]
  },
  {
   "cell_type": "markdown",
   "metadata": {},
   "source": [
    "### **¿Cómo usarlo?**"
   ]
  },
  {
   "cell_type": "markdown",
   "metadata": {},
   "source": [
    "### **Ventajas, desventajas e implementaciones**"
   ]
  },
  {
   "cell_type": "markdown",
   "metadata": {},
   "source": [
    "### **Ejemplos**\n",
    "\n",
    "---"
   ]
  },
  {
   "cell_type": "markdown",
   "metadata": {},
   "source": [
    "# **Swift**"
   ]
  },
  {
   "cell_type": "markdown",
   "metadata": {},
   "source": [
    "### **¿Qué es Swift?**"
   ]
  },
  {
   "cell_type": "markdown",
   "metadata": {},
   "source": [
    "### **Para que sirve**"
   ]
  },
  {
   "cell_type": "markdown",
   "metadata": {},
   "source": [
    "### **¿Cómo usarlo?**"
   ]
  },
  {
   "cell_type": "markdown",
   "metadata": {},
   "source": [
    "### **Ventajas, desventajas e implementaciones**"
   ]
  },
  {
   "cell_type": "markdown",
   "metadata": {},
   "source": [
    "### **Ejemplos**"
   ]
  }
 ],
 "metadata": {
  "language_info": {
   "name": "python"
  }
 },
 "nbformat": 4,
 "nbformat_minor": 2
}
