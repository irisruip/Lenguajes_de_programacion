{
 "cells": [
  {
   "cell_type": "markdown",
   "id": "3cfe551f",
   "metadata": {},
   "source": [
    "<h1>- Bases de datos relacionales </h1>"
   ]
  },
  {
   "cell_type": "markdown",
   "id": "fd80227b",
   "metadata": {},
   "source": [
    "<h3>Son un tipo de base de datos que organiza\n",
    "la informacion en tablas con filas y columnas.\n",
    "Dichas tablas pueden ser relacionadas entre si \n",
    "a traves de elementos llamados \"claves\"</h3>"
   ]
  },
  {
   "cell_type": "markdown",
   "id": "64582338",
   "metadata": {},
   "source": [
    "<h1>- Caracteristicas principales</h1>"
   ]
  },
  {
   "cell_type": "markdown",
   "id": "85015468",
   "metadata": {},
   "source": [
    "<h2>- Estructura basada en tablas <br>\n",
    "\n",
    "Cada tabla representa una entidad (como usuarios, productos, pedidos).\n",
    "Las filas (registros) contienen datos sobre una instancia específica de la entidad.\n",
    "Las columnas (atributos) representan las propiedades de la entidad.\n",
    "</h2>"
   ]
  },
  {
   "cell_type": "markdown",
   "id": "88d5bcfe",
   "metadata": {},
   "source": [
    "<h2>- Uso de claves primarias y foráneas <br>\n",
    "\n",
    "Clave primaria (Primary Key, PK): Identifica de manera única cada registro en una tabla. <br>\n",
    "Clave foránea (Foreign Key, FK): Relaciona una tabla con otra, permitiendo la integridad referencial.</h2>"
   ]
  },
  {
   "cell_type": "markdown",
   "id": "36437481",
   "metadata": {},
   "source": [
    "<h2>- Normalizacion<br>\n",
    "\n",
    " es una tecnica que ayuda a organizar los datos y a evitar redundancias. Consiste en dividir la informacion en multiples tablas relacionadas en lugar de tener toda la informacion en una tabla</h2>"
   ]
  },
  {
   "cell_type": "code",
   "execution_count": 34,
   "id": "90d71439",
   "metadata": {},
   "outputs": [
    {
     "data": {
      "text/plain": [
       "'sql=\"CREATE TABLE usuarios (\\n    id_usuario INT PRIMARY KEY AUTO_INCREMENT,\\n    nombre VARCHAR(100) NOT NULL,\\n    email VARCHAR(100) UNIQUE NOT NULL\\n);\\n\\nCREATE TABLE suscripciones (\\n    id_suscripcion INT PRIMARY KEY AUTO_INCREMENT,\\n    id_usuario INT NOT NULL,\\n    categoria ENUM(\\'Salud\\', \\'Belleza\\', \\'Comida\\', \\'Deportes\\') NOT NULL,\\n    fecha_inicio DATE NOT NULL,\\n    estado ENUM(\\'Activa\\', \\'Cancelada\\') DEFAULT \\'Activa\\',\\n    FOREIGN KEY (id_usuario) REFERENCES usuarios(id_usuario) ON DELETE CASCADE\\n);\\n\"'"
      ]
     },
     "execution_count": 34,
     "metadata": {},
     "output_type": "execute_result"
    }
   ],
   "source": [
    "'''sql=\"CREATE TABLE usuarios (\n",
    "    id_usuario INT PRIMARY KEY AUTO_INCREMENT,\n",
    "    nombre VARCHAR(100) NOT NULL,\n",
    "    email VARCHAR(100) UNIQUE NOT NULL\n",
    ");\n",
    "\n",
    "CREATE TABLE suscripciones (\n",
    "    id_suscripcion INT PRIMARY KEY AUTO_INCREMENT,\n",
    "    id_usuario INT NOT NULL,\n",
    "    categoria ENUM('Salud', 'Belleza', 'Comida', 'Deportes') NOT NULL,\n",
    "    fecha_inicio DATE NOT NULL,\n",
    "    estado ENUM('Activa', 'Cancelada') DEFAULT 'Activa',\n",
    "    FOREIGN KEY (id_usuario) REFERENCES usuarios(id_usuario) ON DELETE CASCADE\n",
    ");\n",
    "\"'''"
   ]
  },
  {
   "cell_type": "markdown",
   "id": "b2087790",
   "metadata": {},
   "source": [
    "<h3> ese es un pequeño ejemplo de como crear 2 tablas relacionadas y  normalizadas entre si</h3>"
   ]
  },
  {
   "cell_type": "markdown",
   "id": "1b28eb39",
   "metadata": {},
   "source": [
    "<h2>- Lenguaje SQL (Structured Query Language) <br>\n",
    "\n",
    "Es un lenguaje usado para realizar las operaciones basicas de un crud:\n",
    "\n",
    "-crear <br>\n",
    "-eliminar <br>\n",
    "-actualizar <br>\n",
    "-leer\n",
    "</h2>"
   ]
  },
  {
   "cell_type": "code",
   "execution_count": 35,
   "id": "80e5519b",
   "metadata": {},
   "outputs": [],
   "source": [
    "UPDATE = \"UPDATE suscripciones SET estado = 'Cancelada' WHERE id_usuario = 1 AND categoria = 'Salud';\""
   ]
  },
  {
   "cell_type": "markdown",
   "id": "108eda22",
   "metadata": {},
   "source": [
    "<H3> Este es un ejemplo de una consulta de SQL que actualiza un registro de una tabla</H3>"
   ]
  },
  {
   "cell_type": "markdown",
   "id": "10f5b5e4",
   "metadata": {},
   "source": [
    "<H1>- MariaDB</H1>"
   ]
  },
  {
   "cell_type": "markdown",
   "id": "e58b558a",
   "metadata": {},
   "source": [
    "<h2>MariaDB es un sistema de gestión de bases de datos relacional (RDBMS) basado en MySQL. Es un software de código abierto y libre, y es compatible con MySQL, por lo que su uso puede ser muy similar. su sintaxis basica es la siguiente:</h2>"
   ]
  },
  {
   "cell_type": "code",
   "execution_count": 36,
   "id": "9955b70d",
   "metadata": {},
   "outputs": [],
   "source": [
    "#crear una base de datos con mariadb\n",
    "\n",
    "sql = \"CREATE DATABASE suscripciones;\"\n",
    "\n",
    "#crear una tabla con mariadb\n",
    "\n",
    "sql = '''\"CREATE TABLE usuarios (\n",
    "    id_usuario INT PRIMARY KEY AUTO_INCREMENT,\n",
    "    nombre VARCHAR(100) NOT NULL,\n",
    "    email VARCHAR(100) UNIQUE NOT NULL\n",
    ");\"'''\n",
    "\n",
    "#consultas basicas con mariadb\n",
    "\n",
    "sql = \"SELECT * FROM usuarios;\"#seleccionar todos los registros de la tabla usuarios\n",
    "sql = \"SELECT * FROM usuarios WHERE id_usuario = 1;\" #seleccionar el registro con id_usuario = 1\n",
    "sql = \"SELECT * FROM usuarios WHERE nombre = 'Juan';\" #seleccionar el registro con nombre = Juan\n",
    "\n",
    "sql = \"UPDATE usuarios SET nombre = 'Juan' WHERE id_usuario = 1;\" #actualizar el nombre del registro con id_usuario = 1\n",
    "\n",
    "sql = \"DELETE FROM usuarios WHERE id_usuario = 1;\" #eliminar el registro con id_usuario = 1\n",
    "\n",
    "sql = \"INSERT INTO usuarios (nombre, email) VALUES ('Juan', 'correo@gmail.com');\" #insertar un nuevo registro\n",
    "\n",
    "#Comandos utiles\n",
    "\n",
    "sql = \"SHOW TABLES;\" #mostrar las tablas de la base de datos\n",
    "sql = \"DESCRIBE usuarios;\" #mostrar la estructura de la tabla usuarios\n",
    "sql = \"DROP TABLE usuarios;\" #eliminar la tabla usuarios\n",
    "sql=\"USE suscripciones;\" #seleccionar la base de datos suscripciones"
   ]
  },
  {
   "cell_type": "markdown",
   "id": "9cd5db57",
   "metadata": {},
   "source": [
    "<h1>- Oracle Database</h1>"
   ]
  },
  {
   "cell_type": "markdown",
   "id": "8d6cef65",
   "metadata": {},
   "source": [
    "<h2>Principales caracteristicas <br></h2>\n",
    "\n",
    "<h3>\n",
    "\n",
    "- Arquitectura Cliente-Servidor\n",
    "\n",
    "Los clientes pueden conectarse a la base de datos a través de SQL*Plus, herramientas gráficas como Oracle SQL Developer, o mediante aplicaciones externas.\n",
    "El servidor de la base de datos maneja las consultas, almacenamiento y procesamiento de los datos.\n",
    "\n",
    "- Lenguaje SQL y PL/SQL\n",
    "\n",
    "Soporta SQL (Structured Query Language) para manejar datos.\n",
    "Oracle incluye PL/SQL (Procedural Language/SQL), un lenguaje de programación que permite la creación de procedimientos almacenados, funciones y triggers.\n",
    "\n",
    "- Estructura de Datos\n",
    "\n",
    "Tablespaces: Conjunto lógico de almacenamiento que organiza los datos.<br>\n",
    "Schemas: Conjunto de objetos (tablas, vistas, procedimientos, etc.) propiedad de un usuario.<br>\n",
    "Tables: Estructuras donde se almacenan los datos.<br>\n",
    "Indexes: Optimizan la búsqueda y recuperación de datos.<br>\n",
    "Views: Consultas almacenadas que actúan como tablas virtuales.\n",
    "\n",
    "- Gestión de Usuarios y Seguridad\n",
    "\n",
    "Uso de roles y privilegios para controlar el acceso.\n",
    "Cifrado de datos para mayor seguridad.\n",
    "Auditoría y control de acceso para registrar acciones dentro de la base de datos.\n",
    "\n",
    "- Alta Disponibilidad y Recuperación\n",
    "\n",
    "Oracle Data Guard: Replicación de bases de datos para recuperación ante fallos.\n",
    "RMAN (Recovery Manager): Herramienta para realizar backups y recuperación de datos.\n",
    "Flashback Technology: Permite recuperar datos eliminados accidentalmente.\n",
    "\n",
    "- Escalabilidad y Rendimiento\n",
    "\n",
    "Particionamiento de tablas para mejorar el rendimiento en grandes volúmenes de datos.<br>\n",
    "Oracle Real Application Clusters (RAC): Permite que varias instancias accedan a la misma base de datos para alta disponibilidad.\n",
    "Índices avanzados como B-tree y Bitmap Indexes para optimizar consultas.\n",
    "\n",
    "- Soporte para Big Data y NoSQL\n",
    "\n",
    "Integración con JSON, XML y bases de datos NoSQL.\n",
    "Capacidades de análisis y procesamiento de grandes volúmenes de datos.</h3>"
   ]
  },
  {
   "cell_type": "markdown",
   "id": "93aa7db0",
   "metadata": {},
   "source": [
    "<h3> realmente la sintaxis entre gestores de bases de datos relacionales que usan el lenguaje \n",
    "sql es practicamente igual. en el caso de oracle se deberia destacar mucho su uso en bancos,\n",
    "telecomunicaciones, sector salud, gobierno, etc. Esto debido a la alta seguridad que ofrece.  </h3>"
   ]
  },
  {
   "cell_type": "code",
   "execution_count": 37,
   "id": "5bd6667b",
   "metadata": {},
   "outputs": [
    {
     "data": {
      "text/plain": [
       "'-- Crear un usuario\\nCREATE USER mi_usuario IDENTIFIED BY mi_contraseña;\\n\\n-- Otorgar privilegios\\nGRANT CONNECT, RESOURCE TO mi_usuario;\\n\\n-- Crear una base de datos\\nCREATE DATABASE mi_base;'"
      ]
     },
     "execution_count": 37,
     "metadata": {},
     "output_type": "execute_result"
    }
   ],
   "source": [
    "# ejemplo de gestion de usuarios y bases de datos en oracle\n",
    "\n",
    "'''-- Crear un usuario\n",
    "CREATE USER mi_usuario IDENTIFIED BY mi_contraseña;\n",
    "\n",
    "-- Otorgar privilegios\n",
    "GRANT CONNECT, RESOURCE TO mi_usuario;\n",
    "\n",
    "-- Crear una base de datos\n",
    "CREATE DATABASE mi_base;'''\n"
   ]
  }
 ],
 "metadata": {
  "kernelspec": {
   "display_name": "Python 3",
   "language": "python",
   "name": "python3"
  },
  "language_info": {
   "codemirror_mode": {
    "name": "ipython",
    "version": 3
   },
   "file_extension": ".py",
   "mimetype": "text/x-python",
   "name": "python",
   "nbconvert_exporter": "python",
   "pygments_lexer": "ipython3",
   "version": "3.12.8"
  }
 },
 "nbformat": 4,
 "nbformat_minor": 5
}
