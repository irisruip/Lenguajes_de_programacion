{
 "cells": [
  {
   "cell_type": "markdown",
   "metadata": {},
   "source": [
    "# <b>Acerca de un poco más de las bases de datos</b>"
   ]
  },
  {
   "cell_type": "markdown",
   "metadata": {},
   "source": [
    "### <b>Normalización</b>\n",
    "\n",
    "La **normalización** es el proceso de organizar los datos de una base de datos. Se debe tener en cuenta la creación de tablas y las reglas que se usan para definir las relaciones, estas reglas son diseñadas para proteger los datos, y para que la base de datos sea flexible con el fin de eliminar redundancias y dependencias incoherentes."
   ]
  },
  {
   "cell_type": "markdown",
   "metadata": {},
   "source": [
    "#### <b>¿Por qué se debe normalizar?</b>\n",
    "\n",
    "Las bases de datos se deben normalizar debido a lo siguiente:\n",
    "\n",
    "- Evitar la redundancia de los datos.\n",
    "- Proteger la integridad de los datos\n",
    "- Evitar problemas de actualización de los datos en las tablas\n",
    "- Facilitar el acceso e interpretación de los datos.\n",
    "- Optimizar el espacio de almacenamiento.\n",
    "- Reducir el tiempo y complejidad de revisión de las bases de datos."
   ]
  },
  {
   "cell_type": "markdown",
   "metadata": {},
   "source": [
    "#### <b>Tipos de normalización</b>\n",
    "\n",
    "Hay reglas en la normalización de una base de datos y cada una de ellas se denomina Forma Normal. Existen 3 tipos principales.\n",
    "\n",
    "| **#** | **Paso**                                      | **Descripción**                                                                                     |\n",
    "|-------|-----------------------------------------------|---------------------------------------------------------------------------------------------------|\n",
    "| 1     | Datos en Primera Forma Normal (1FN)         | Se asegura que los datos están en una tabla con valores atómicos y cada columna contiene un solo valor. |\n",
    "| 2     | Identificar redundancias                     | Se observan datos repetidos, como el nombre del club en múltiples filas.                           |\n",
    "| 3     | Descomponer en Segunda Forma Normal (2FN)    | Se eliminan dependencias parciales dividiendo los datos en tablas separadas según las claves primarias. |\n",
    "| 4     | Identificar dependencias transitivas         | Se revisa si algún atributo depende de otro que no sea la clave primaria.                         |\n",
    "| 5     | Aplicar la Tercera Forma Normal (3FN)        | Se eliminan dependencias transitivas, creando nuevas tablas para atributos que no dependen directamente de la clave primaria. |"
   ]
  },
  {
   "cell_type": "markdown",
   "metadata": {},
   "source": [
    "#### <b>Ejemplo</b>\n",
    "\n",
    "####  Primera Forma Normal (1FN)\n",
    "Tabla sin normalizar con datos redundantes y valores repetidos.\n",
    "\n",
    "| ID | Club          | País       | Año Fundación | Jugador         | Posición    |\n",
    "|----|--------------|------------|--------------|----------------|-------------|\n",
    "| 1  | Barcelona    | España     | 1899         | Lionel Messi   | Delantero   |\n",
    "| 2  | Barcelona    | España     | 1899         | Xavi Hernández | Mediocampista |\n",
    "| 3  | Man City     | Inglaterra | 1880         | Kevin De Bruyne| Mediocampista |\n",
    "| 4  | Man City     | Inglaterra | 1880         | Erling Haaland | Delantero   |\n",
    "| 5  | Carabobo FC  | Venezuela  | 1997         | Choco Ruiz   | Mediocampista |\n",
    "\n",
    "**Problema:**  \n",
    "- Hay redundancia en los nombres de los clubes y sus datos (país, año de fundación).  \n",
    "- Un mismo club aparece en varias filas, lo que aumenta el almacenamiento innecesario.  \n"
   ]
  },
  {
   "cell_type": "markdown",
   "metadata": {},
   "source": [
    "#### Segunda Forma Normal (2FN)\n",
    "Se eliminan **dependencias parciales** separando los clubes y jugadores en tablas distintas.\n",
    "\n",
    "#### Tabla de Clubes\n",
    "| Club ID | Nombre       | País       | Año Fundación |\n",
    "|---------|-------------|------------|--------------|\n",
    "| 1       | Barcelona   | España     | 1899         |\n",
    "| 2       | Man City    | Inglaterra | 1880         |\n",
    "| 3       | Carabobo FC | Venezuela  | 1997         |\n",
    "\n",
    "#### Tabla de Jugadores\n",
    "| Jugador ID | Nombre          | Posición       | Club ID |\n",
    "|------------|----------------|---------------|---------|\n",
    "| 1          | Lionel Messi   | Delantero     | 1       |\n",
    "| 2          | Xavi Hernández | Mediocampista | 1       |\n",
    "| 3          | Kevin De Bruyne| Mediocampista | 2       |\n",
    "| 4          | Erling Haaland | Delantero     | 2       |\n",
    "| 5          | Choco Ruiz   | Mediocampista | 3       |\n",
    "\n",
    "**Problema:**  \n",
    "- Aún hay dependencias transitivas (por ejemplo, la posición del jugador podría necesitar una tabla aparte).  "
   ]
  },
  {
   "cell_type": "markdown",
   "metadata": {},
   "source": [
    "#### Tercera Forma Normal (3FN)\n",
    "Se eliminan **dependencias transitivas** creando una tabla para **Posiciones**.\n",
    "\n",
    "#### Tabla de Posiciones\n",
    "| Posición ID | Nombre         |\n",
    "|------------|---------------|\n",
    "| 1          | Delantero     |\n",
    "| 2          | Mediocampista |\n",
    "\n",
    "#### Tabla de Jugadores (Refinada)\n",
    "| Jugador ID | Nombre          | Posición ID | Club ID |\n",
    "|------------|----------------|------------|---------|\n",
    "| 1          | Lionel Messi   | 1          | 1       |\n",
    "| 2          | Xavi Hernández | 2          | 1       |\n",
    "| 3          | Kevin De Bruyne| 2          | 2       |\n",
    "| 4          | Erling Haaland | 1          | 2       |\n",
    "| 5          | Choco Ruiz    | 2          | 3       |\n",
    "\n",
    "**Ventajas de la 3FN:**  \n",
    "- **Menos redundancia**: No se repiten valores innecesarios.  \n",
    "- **Mayor integridad**: Cambiar el nombre de una posición solo requiere modificar una tabla.  \n",
    "- **Facilita actualizaciones y consultas** en bases de datos.  \n",
    "\n",
    "\n",
    "---\n"
   ]
  },
  {
   "cell_type": "markdown",
   "metadata": {},
   "source": [
    "### <b>Migraciones</b>"
   ]
  },
  {
   "cell_type": "markdown",
   "metadata": {},
   "source": [
    "La migración de datos es el proceso de selección, preparación, extracción, transformación y transferencia permanente de datos de un sistema de almacenamiento informático a otro."
   ]
  },
  {
   "cell_type": "markdown",
   "metadata": {},
   "source": [
    "\n",
    "#### <b>¿Qué son las migraciones de base de datos?</b>\n",
    "\n",
    "Las migraciones son archivos de script que modifican la estructura de la base de datos de forma incremental. Estas modificaciones pueden incluir:\n",
    "\n",
    "- Creación, modificación o eliminación de tablas\n",
    "- Adición o eliminación de columnas\n",
    "- Definición o actualización de claves primarias y foráneas\n",
    "- Creación de índices para mejorar el rendimiento\n",
    "- Inserción o actualización de datos esenciales"
   ]
  },
  {
   "cell_type": "markdown",
   "metadata": {},
   "source": [
    "#### <b>Beneficios de las Migraciones</b>\n",
    "\n",
    "| **Beneficio**             | **Descripción** |\n",
    "|---------------------------|--------------------------------------------------------|\n",
    "| Control de versiones      | Permite registrar cambios en la base de datos de forma estructurada. |\n",
    "| Reproducibilidad          | Facilita la aplicación de cambios en distintos entornos de desarrollo, prueba y producción. |\n",
    "| Integridad y consistencia | Reduce el riesgo de errores al modificar la estructura de la base de datos. |\n",
    "| Automatización            | Se pueden aplicar y revertir cambios mediante herramientas de gestión de migraciones. |"
   ]
  },
  {
   "cell_type": "markdown",
   "metadata": {},
   "source": [
    "#### <b>Herramientas Populares para Migraciones</b>\n",
    "\n",
    "Existen diversas herramientas para gestionar migraciones de bases de datos, dependiendo del lenguaje y framework utilizado:\n",
    "| **Herramienta**                      | **Tecnología**          | **Descripción** |\n",
    "|--------------------------------------|------------------------|-----------------------------------------------------------|\n",
    "| **Help Desk Migration**             | Java, SQL, REST API    | Plataforma SaaS que automatiza la migración de datos entre sistemas de help desk y CRM. |\n",
    "| **AWS Database Migration Service**  | Java, AWS SDK, SQL    | Servicio de AWS que permite migrar bases de datos con replicación continua y mínima interrupción. |\n",
    "| **Fivetran**                        | Python, SQL, REST API | Herramienta ETL sin código que automatiza la sincronización de datos en tiempo real desde múltiples fuentes. |\n",
    "| **Matillion**                        | Java, SQL, Python     | Plataforma ETL basada en la nube con capacidades de transformación de datos y carga en data warehouses. |\n",
    "| **Integrate.io**                     | Python, SQL, REST API | Plataforma ETL de bajo código con integración y automatización de canalizaciones de datos. |\n",
    "| **Talend**                           | Java, Spark, SQL      | Solución de integración de datos con herramientas de transformación, calidad y gobernanza de datos. |\n",
    "| **Oracle Data Integrator (ODI)**     | Java, SQL, ELT        | Herramienta de integración de datos de Oracle que permite la extracción, carga y transformación (ELT). |\n",
    "| **Hevo Data**                        | Python, SQL, REST API | Plataforma de datos en tiempo real que permite replicar, transformar y mover datos sin escribir código. |\n",
    "| **Google Cloud Migration Tools**     | Python, Go, SQL       | Conjunto de herramientas de Google Cloud para migraciones de datos y aplicaciones en entornos híbridos y multi-nube. |\n"
   ]
  },
  {
   "cell_type": "markdown",
   "metadata": {},
   "source": [
    "<img src=\"https://cloud.google.com/static/architecture/images/database-migration-concepts-principles-part-1-migration-architecture-multi-environment.png?hl=es-419\" alt=\"GooglemDBMigracion\">"
   ]
  },
  {
   "cell_type": "markdown",
   "metadata": {},
   "source": [
    "#### <b>Referencias</b>\n",
    "\n",
    "- https://ed.team/blog/normalizacion-de-bases-de-datos\n",
    "- https://platzi.com/blog/normalizar-una-base-de-datos-y-no-morir-en-el-intento/\n",
    "- https://azure.microsoft.com/es-mx/resources/cloud-computing-dictionary/what-is-data-migration\n",
    "- https://help-desk-migration.com/es/data-migration-tools/"
   ]
  }
 ],
 "metadata": {
  "language_info": {
   "name": "python"
  }
 },
 "nbformat": 4,
 "nbformat_minor": 2
}
