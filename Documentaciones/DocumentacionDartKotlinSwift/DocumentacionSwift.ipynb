{
 "cells": [
  {
   "cell_type": "markdown",
   "metadata": {},
   "source": [
    "<div style=\"display: flex; align-items: center;\">\n",
    "  <img src=\"data:image/svg+xml;base64,PHN2ZyB4bWxucz0iaHR0cDovL3d3dy53My5vcmcvMjAwMC9zdmciIHByZXNlcnZlQXNwZWN0UmF0aW89InhNaWRZTWlkIiB2aWV3Qm94PSIwIDAgMjU2IDI1NiI+DQogIDxsaW5lYXJHcmFkaWVudCBpZD0iYSIgZ3JhZGllbnRVbml0cz0idXNlclNwYWNlT25Vc2UiIHgxPSItMTg0NS41IiB5MT0iMTI1NS42IiB4Mj0iLTE3OTcuMSIgeTI9Ijk4MS4zIiBncmFkaWVudFRyYW5zZm9ybT0icm90YXRlKDE4MCAtODQ2LjYgNjIzLjMpIj4NCiAgICA8c3RvcCBvZmZzZXQ9IjAiIHN0eWxlPSJzdG9wLWNvbG9yOiNmYWFlNDIiLz4NCiAgICA8c3RvcCBvZmZzZXQ9IjEiIHN0eWxlPSJzdG9wLWNvbG9yOiNlZjNlMzEiLz4NCiAgPC9saW5lYXJHcmFkaWVudD4NCiAgPHBhdGggZmlsbD0idXJsKCNhKSIgZD0iTTU2LjkgMGgxNDEuOGE1Ni41IDU2LjUgMCAwIDEgNTcuNCA1OS4xVjE5Ny40YTU2LjYgNTYuNiAwIDAgMS01Ny41IDU4LjZsLTE0NC4yLS4xYTU3IDU3IDAgMCAxLTU0LTU2LjhWNTYuOUE1Ni44IDU2LjggMCAwIDEgNTMuNy4yYzEtLjIgMi4xLS4yIDMuMi0uMnoiLz4NCiAgPGxpbmVhckdyYWRpZW50IGlkPSJiIiBncmFkaWVudFVuaXRzPSJ1c2VyU3BhY2VPblVzZSIgeDE9IjEzMC42IiB5MT0iNC4xIiB4Mj0iOTUuMiIgeTI9IjIwNC45Ij4NCiAgICA8c3RvcCBvZmZzZXQ9IjAiIHN0eWxlPSJzdG9wLWNvbG9yOiNlMzlmM2EiLz4NCiAgICA8c3RvcCBvZmZzZXQ9IjEiIHN0eWxlPSJzdG9wLWNvbG9yOiNkMzM5MjkiLz4NCiAgPC9saW5lYXJHcmFkaWVudD4NCiAgPHBhdGggZmlsbD0idXJsKCNiKSIgZD0iTTIxNiAyMDkuNGEzOSAzOSAwIDAgMC0xMS42LTExLjljLTQtMi43LTguNy00LjQtMTMuNS00LjYtMy40LS4yLTYuOC40LTEwIDEuNmE2NS4yIDY1LjIgMCAwIDAtOS4zIDQuM2MtMy41IDEuOC03IDMuNi0xMC43IDUuMS00LjQgMS44LTkgMy4yLTEzLjcgNC4yYTg5IDg5IDAgMCAxLTE3LjggMS40IDEyMC4zIDEyMC4zIDAgMCAxLTc3LjItMzAgMTQ1LjQgMTQ1LjQgMCAwIDEtMjIuOC0yNS4xIDQ2LjYgNDYuNiAwIDAgMS0zLTQuN0wwIDEyMS4yVjU2LjdBNTYuNiA1Ni42IDAgMCAxIDU2LjYgMGg1MC41bDM3LjQgMzhjODQuNCA1Ny40IDU3LjEgMTIwLjcgNTcuMSAxMjAuN3MyNCAyNy4xIDE0LjMgNTAuOHoiLz4NCiAgPHBhdGggZmlsbD0iI0ZGRiIgZD0iTTE0NC43IDM4Yzg0LjQgNTcuNCA1Ny4xIDEyMC43IDU3LjEgMTIwLjdzMjQgMjcuMSAxNC4zIDUwLjhjMCAwLTkuOS0xNi42LTI2LjUtMTYuNi0xNiAwLTI1LjQgMTYuNi01Ny42IDE2LjYtNzEuNyAwLTEwNS42LTU5LjktMTA1LjYtNTkuOUM5MSAxOTIuMSAxMzUuMSAxNjIgMTM1LjEgMTYyYy0yOS4xLTE2LjktOTEtOTcuNy05MS05Ny43IDUzLjkgNDUuOSA3Ny4yIDU4IDc3LjIgNTgtMTMuOS0xMS41LTUyLjktNjcuNy01Mi45LTY3LjcgMzEuMiAzMS42IDkzLjIgNzUuNyA5My4yIDc1LjdDMTc5LjIgODEuNSAxNDQuNyAzOCAxNDQuNyAzOHoiLz4NCjwvc3ZnPg==\" width=\"60\" height=\"60\" style=\"margin-right: 10px;\">\n",
    "  <h1 style=\"margin: 0;\"><b>Swift</b></h1>\n",
    "</div>"
   ]
  },
  {
   "cell_type": "markdown",
   "metadata": {},
   "source": [
    "## **¿Qué es Swift?**\n",
    "\n",
    "Swift es un **lenguaje de programación moderno y seguro**, desarrollado por **Apple** en 2014. Está diseñado para ser rápido, eficiente y fácil de usar, y es el lenguaje principal para desarrollar aplicaciones en el ecosistema de Apple (iOS, macOS, watchOS y tvOS)."
   ]
  },
  {
   "cell_type": "markdown",
   "metadata": {},
   "source": [
    "## **Características de Swift**\n",
    "\n",
    "1. **Seguro y rápido**: Diseñado para evitar errores comunes y optimizado para rendimiento.\n",
    "2. **Sintaxis clara y concisa**: Menos código repetitivo comparado con Objective-C.\n",
    "3. **Seguro contra nulos**: Usa opcionales para manejar valores nulos de manera segura.\n",
    "4. **Interoperable con Objective-C**: Puedes usar Swift y Objective-C en el mismo proyecto.\n",
    "5. **Open Source**: Swift es de código abierto y tiene una comunidad activa.\n",
    "6. **Multiplataforma**: Aunque está enfocado en el ecosistema de Apple, también se puede usar en Linux y servidores."
   ]
  },
  {
   "cell_type": "markdown",
   "metadata": {},
   "source": [
    "## **¿Cómo funciona Swift?**\n",
    "\n",
    "- Swift se compila a **código máquina optimizado**, lo que lo hace extremadamente rápido.\n",
    "- Usa el **LLVM compiler framework**, el mismo que usa Clang para C y C++.\n",
    "- Es un lenguaje **estáticamente tipado**, lo que significa que los tipos de datos se verifican en tiempo de compilación, reduciendo errores en tiempo de ejecución."
   ]
  },
  {
   "cell_type": "markdown",
   "metadata": {},
   "source": [
    "## **Pasos para configurar Swift en VSCode:**\n",
    "\n",
    "Se recomienda utilizar dispositivos Apple para un mejor rendimiento\n",
    "\n",
    "1. **Instalar Xcode** (en macOS):\n",
    "   - Abre la App Store y descarga Xcode.\n",
    "   - Xcode incluye el compilador de Swift y todas las herramientas necesarias.\n",
    "\n",
    "2. **Instalar la extensión de Swift**:\n",
    "   - Abre VSCode.\n",
    "   - Ve a la pestaña **Extensions** (Ctrl + Shift + X).\n",
    "   - Busca \"Swift\" e instala la extensión oficial.\n",
    "\n",
    "3. **Crear un proyecto Swift**:\n",
    "   - Crea una carpeta para tu proyecto.\n",
    "   - Abre la carpeta en VSCode.\n",
    "   - Crea un archivo `.swift` (por ejemplo, `Main.swift`).\n",
    "\n",
    "4. **Ejecutar el código Swift**:\n",
    "   - Usa la terminal integrada de VSCode para compilar y ejecutar tu código:\n",
    "     ```bash\n",
    "     swift Main.swift\n",
    "     ```"
   ]
  },
  {
   "cell_type": "markdown",
   "metadata": {},
   "source": [
    "## **Sintaxis básica**\n",
    "\n",
    "| **Concepto**               | **Sintaxis**                                                                 | **Ejemplo**                                                                 |\n",
    "|----------------------------|-----------------------------------------------------------------------------|-----------------------------------------------------------------------------|\n",
    "| **Declaración de Variables** | `let` (inmutable) / `var` (mutable)                                        | `let nombre = \"Swift\"`<br>`var edad = 25`                                  |\n",
    "| **Tipos de Datos**          | `Int`, `String`, `Bool`, `Double`, etc.                                    | `let numero: Int = 10`<br>`let esActivo: Bool = true`                      |\n",
    "| **Funciones**               | `func nombreFuncion(parametro: Tipo) -> TipoRetorno { ... }`               | `func sumar(a: Int, b: Int) -> Int { return a + b }`                       |\n",
    "| **Funciones de Una Línea**  | `func nombreFuncion(parametro: Tipo) -> TipoRetorno { expresión }`         | `func sumar(a: Int, b: Int) -> Int { a + b }`                              |\n",
    "| **Condicionales**           | `if condición { ... } else { ... }`                                        | `if edad > 18 { print(\"Mayor de edad\") } else { print(\"Menor\") }`          |\n",
    "| **Switch**                  | `switch variable { case valor1: ... case valor2: ... default: ... }`       | `switch x { case 1: print(\"x es 1\") case 2: print(\"x es 2\") default: print(\"...\") }` |\n",
    "| **Bucles**                  | `for item in colección { ... }`<br>`while condición { ... }`               | `for i in 1...5 { print(i) }`<br>`while x > 0 { x -= 1 }`                  |\n",
    "| **Colecciones**             | `Array`, `Set`, `Dictionary`                                               | `let lista = [1, 2, 3]`<br>`let mapa = [\"a\": 1, \"b\": 2]`                   |\n",
    "| **Clases**                  | `class NombreClase { ... }`                                                | `class Persona { let nombre: String; var edad: Int }`                      |\n",
    "| **Optionals**               | `Tipo?` (nullable), `!` (force unwrap), `if let` (optional binding)        | `var nombre: String? = nil`<br>`if let nombre = nombre { print(nombre) }`  |\n",
    "| **Extensiones**             | `extension Tipo { ... }`                                                   | `extension String { func esVacia() -> Bool { return self.isEmpty } }`      |\n",
    "| **Closures**                | `{ (parametros) -> TipoRetorno in ... }`                                   | `let suma = { (a: Int, b: Int) -> Int in return a + b }`                   |"
   ]
  },
  {
   "cell_type": "markdown",
   "metadata": {},
   "source": [
    "### **Ejemplo de código en Swift**\n",
    "\n",
    "Al igual que en la documentación de Kotlin, aquí el ejemplo será un \"¡Hola, Mundo!\":\n",
    "\n",
    "```swift\n",
    "import Foundation\n",
    "\n",
    "func main() {\n",
    "    print(\"¡Hola, Mundo!\")\n",
    "}\n",
    "\n",
    "main()"
   ]
  },
  {
   "cell_type": "markdown",
   "metadata": {},
   "source": [
    "---"
   ]
  },
  {
   "cell_type": "markdown",
   "metadata": {},
   "source": [
    "## **Referencias**\n",
    "\n",
    "- https://www.apple.com/co/swift/\n",
    "- https://www.swift.org/getting-started/ \n",
    "- https://talently.tech/blog/caracteristicas-del-lenguaje-de-programacion-swift/"
   ]
  }
 ],
 "metadata": {
  "language_info": {
   "name": "python"
  }
 },
 "nbformat": 4,
 "nbformat_minor": 2
}
