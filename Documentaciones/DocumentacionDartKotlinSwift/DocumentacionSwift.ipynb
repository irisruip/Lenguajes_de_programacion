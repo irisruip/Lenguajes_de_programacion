{
 "cells": [
  {
   "cell_type": "markdown",
   "metadata": {},
   "source": [
    "<div style=\"display: flex; align-items: center;\">\n",
    "  <img src=\"./img/icons/swift.svg\" width=\"60\" height=\"60\" style=\"margin-right: 10px;\">\n",
    "  <h1 style=\"margin: 0;\"><b>Swift</b></h1>\n",
    "</div>"
   ]
  },
  {
   "cell_type": "markdown",
   "metadata": {},
   "source": [
    "## **¿Qué es Swift?**\n",
    "\n",
    "Swift es un **lenguaje de programación moderno y seguro**, desarrollado por **Apple** en 2014. Está diseñado para ser rápido, eficiente y fácil de usar, y es el lenguaje principal para desarrollar aplicaciones en el ecosistema de Apple (iOS, macOS, watchOS y tvOS)."
   ]
  },
  {
   "cell_type": "markdown",
   "metadata": {},
   "source": [
    "## **Características de Swift**\n",
    "\n",
    "1. **Seguro y rápido**: Diseñado para evitar errores comunes y optimizado para rendimiento.\n",
    "2. **Sintaxis clara y concisa**: Menos código repetitivo comparado con Objective-C.\n",
    "3. **Seguro contra nulos**: Usa opcionales para manejar valores nulos de manera segura.\n",
    "4. **Interoperable con Objective-C**: Puedes usar Swift y Objective-C en el mismo proyecto.\n",
    "5. **Open Source**: Swift es de código abierto y tiene una comunidad activa.\n",
    "6. **Multiplataforma**: Aunque está enfocado en el ecosistema de Apple, también se puede usar en Linux y servidores."
   ]
  },
  {
   "cell_type": "markdown",
   "metadata": {},
   "source": [
    "## **¿Cómo funciona Swift?**\n",
    "\n",
    "- Swift se compila a **código máquina optimizado**, lo que lo hace extremadamente rápido.\n",
    "- Usa el **LLVM compiler framework**, el mismo que usa Clang para C y C++.\n",
    "- Es un lenguaje **estáticamente tipado**, lo que significa que los tipos de datos se verifican en tiempo de compilación, reduciendo errores en tiempo de ejecución."
   ]
  },
  {
   "cell_type": "markdown",
   "metadata": {},
   "source": [
    "## **Pasos para configurar Swift en VSCode:**\n",
    "\n",
    "Se recomienda utilizar dispositivos Apple para un mejor rendimiento\n",
    "\n",
    "1. **Instalar Xcode** (en macOS):\n",
    "   - Abre la App Store y descarga Xcode.\n",
    "   - Xcode incluye el compilador de Swift y todas las herramientas necesarias.\n",
    "\n",
    "2. **Instalar la extensión de Swift**:\n",
    "   - Abre VSCode.\n",
    "   - Ve a la pestaña **Extensions** (Ctrl + Shift + X).\n",
    "   - Busca \"Swift\" e instala la extensión oficial.\n",
    "\n",
    "3. **Crear un proyecto Swift**:\n",
    "   - Crea una carpeta para tu proyecto.\n",
    "   - Abre la carpeta en VSCode.\n",
    "   - Crea un archivo `.swift` (por ejemplo, `Main.swift`).\n",
    "\n",
    "4. **Ejecutar el código Swift**:\n",
    "   - Usa la terminal integrada de VSCode para compilar y ejecutar tu código:\n",
    "     ```bash\n",
    "     swift Main.swift\n",
    "     ```"
   ]
  },
  {
   "cell_type": "markdown",
   "metadata": {},
   "source": [
    "## **Sintaxis básica**\n",
    "\n",
    "| **Concepto**               | **Sintaxis**                                                                 | **Ejemplo**                                                                 |\n",
    "|----------------------------|-----------------------------------------------------------------------------|-----------------------------------------------------------------------------|\n",
    "| **Declaración de Variables** | `let` (inmutable) / `var` (mutable)                                        | `let nombre = \"Swift\"`<br>`var edad = 25`                                  |\n",
    "| **Tipos de Datos**          | `Int`, `String`, `Bool`, `Double`, etc.                                    | `let numero: Int = 10`<br>`let esActivo: Bool = true`                      |\n",
    "| **Funciones**               | `func nombreFuncion(parametro: Tipo) -> TipoRetorno { ... }`               | `func sumar(a: Int, b: Int) -> Int { return a + b }`                       |\n",
    "| **Funciones de Una Línea**  | `func nombreFuncion(parametro: Tipo) -> TipoRetorno { expresión }`         | `func sumar(a: Int, b: Int) -> Int { a + b }`                              |\n",
    "| **Condicionales**           | `if condición { ... } else { ... }`                                        | `if edad > 18 { print(\"Mayor de edad\") } else { print(\"Menor\") }`          |\n",
    "| **Switch**                  | `switch variable { case valor1: ... case valor2: ... default: ... }`       | `switch x { case 1: print(\"x es 1\") case 2: print(\"x es 2\") default: print(\"...\") }` |\n",
    "| **Bucles**                  | `for item in colección { ... }`<br>`while condición { ... }`               | `for i in 1...5 { print(i) }`<br>`while x > 0 { x -= 1 }`                  |\n",
    "| **Colecciones**             | `Array`, `Set`, `Dictionary`                                               | `let lista = [1, 2, 3]`<br>`let mapa = [\"a\": 1, \"b\": 2]`                   |\n",
    "| **Clases**                  | `class NombreClase { ... }`                                                | `class Persona { let nombre: String; var edad: Int }`                      |\n",
    "| **Optionals**               | `Tipo?` (nullable), `!` (force unwrap), `if let` (optional binding)        | `var nombre: String? = nil`<br>`if let nombre = nombre { print(nombre) }`  |\n",
    "| **Extensiones**             | `extension Tipo { ... }`                                                   | `extension String { func esVacia() -> Bool { return self.isEmpty } }`      |\n",
    "| **Closures**                | `{ (parametros) -> TipoRetorno in ... }`                                   | `let suma = { (a: Int, b: Int) -> Int in return a + b }`                   |"
   ]
  },
  {
   "cell_type": "markdown",
   "metadata": {},
   "source": [
    "### **Ejemplo de código en Swift**\n",
    "\n",
    "Al igual que en la documentación de Kotlin, aquí el ejemplo será un \"¡Hola, Mundo!\":\n",
    "\n",
    "```swift\n",
    "import Foundation\n",
    "\n",
    "func main() {\n",
    "    print(\"¡Hola, Mundo!\")\n",
    "}\n",
    "\n",
    "main()"
   ]
  },
  {
   "cell_type": "markdown",
   "metadata": {},
   "source": [
    "---"
   ]
  },
  {
   "cell_type": "markdown",
   "metadata": {},
   "source": [
    "## **Referencias**\n",
    "\n",
    "- https://www.apple.com/co/swift/\n",
    "- https://www.swift.org/getting-started/ \n",
    "- https://talently.tech/blog/caracteristicas-del-lenguaje-de-programacion-swift/"
   ]
  }
 ],
 "metadata": {
  "language_info": {
   "name": "python"
  }
 },
 "nbformat": 4,
 "nbformat_minor": 2
}
