{
 "cells": [
  {
   "cell_type": "markdown",
   "metadata": {},
   "source": [
    "<div style=\"display: flex; align-items: center;\">\n",
    "  <img src=\"data:image/svg+xml;base64,PHN2ZyB2aWV3Qm94PSIwIDAgMjU2IDI1NiIgd2lkdGg9IjI1NiIgaGVpZ2h0PSIyNTYiIHhtbG5zPSJodHRwOi8vd3d3LnczLm9yZy8yMDAwL3N2ZyIgcHJlc2VydmVBc3BlY3RSYXRpbz0ieE1pZFlNaWQiPjxkZWZzPjxsaW5lYXJHcmFkaWVudCB4MT0iOTkuOTkxJSIgeTE9Ii0uMDExJSIgeDI9Ii4wMSUiIHkyPSIxMDAuMDElIiBpZD0iYSI+PHN0b3Agc3RvcC1jb2xvcj0iI0U0NDg1NyIgb2Zmc2V0PSIuMzQ0JSIvPjxzdG9wIHN0b3AtY29sb3I9IiNDNzExRTEiIG9mZnNldD0iNDYuODklIi8+PHN0b3Agc3RvcC1jb2xvcj0iIzdGNTJGRiIgb2Zmc2V0PSIxMDAlIi8+PC9saW5lYXJHcmFkaWVudD48L2RlZnM+PHBhdGggZmlsbD0idXJsKCNhKSIgZD0iTTI1NiAyNTZIMFYwaDI1NkwxMjggMTI3Ljk0OXoiLz48L3N2Zz4=\" width=\"60\" height=\"60\" style=\"margin-right: 10px;\">\n",
    "  <h1 style=\"margin: 0;\"><b>Kotlin</b></h1>\n",
    "</div>"
   ]
  },
  {
   "cell_type": "markdown",
   "metadata": {},
   "source": [
    "## **¿Qué es Kotlin?**\n",
    "\n",
    "Kotlin es un **lenguaje de programación moderno**, estáticamente tipado y de propósito general, desarrollado por **JetBrains**. Es completamente interoperable con Java y se utiliza principalmente para el desarrollo de aplicaciones Android, aunque también se puede usar para desarrollo web, backend, y más."
   ]
  },
  {
   "cell_type": "markdown",
   "metadata": {},
   "source": [
    "## **Características de Kotlin**\n",
    "\n",
    "1. **Interoperable con Java**: Puedes usar Kotlin y Java en el mismo proyecto sin problemas.\n",
    "2. **Sintaxis concisa**: Menos código repetitivo comparado con Java.\n",
    "3. **Seguro contra nulos**: Evita errores comunes de `NullPointerException`.\n",
    "4. **Funciones de extensión**: Añade funcionalidades a clases existentes sin modificar su código.\n",
    "5. **Corrutinas**: Soporte nativo para programación asíncrona.\n",
    "6. **Multiplataforma**: Puedes usar Kotlin para Android, iOS, web, backend, y más.\n",
    "7. **Open Source**: Kotlin es completamente gratuito y de código abierto.\n"
   ]
  },
  {
   "cell_type": "markdown",
   "metadata": {},
   "source": [
    "## **¿Cómo funciona Kotlin?**\n",
    "\n",
    "- Kotlin se compila a **bytecode de la JVM** (Java Virtual Machine), lo que lo hace compatible con Java.\n",
    "- También puede compilarse a **JavaScript** (para desarrollo web) o a **binarios nativos** (usando Kotlin/Native).\n",
    "- Kotlin es un lenguaje **estáticamente tipado**, lo que significa que los tipos de datos se verifican en tiempo de compilación, reduciendo errores en tiempo de ejecución."
   ]
  },
  {
   "cell_type": "markdown",
   "metadata": {},
   "source": [
    "## **¿Cómo utilizar Kotlin en VSCode?**\n",
    "\n",
    "### **Requisitos:**\n",
    "1. **Java Development Kit (JDK)**: Asegúrate de tener instalado el JDK (versión 8 o superior).\n",
    "2. **Extensión de Kotlin**: Instala la extensión oficial de Kotlin en VSCode.\n",
    "\n",
    "### **Pasos para configurar Kotlin en VSCode:**\n",
    "1. **Instalar la extensión de Kotlin**:\n",
    "   - Abre VSCode.\n",
    "   - Ve a la pestaña **Extensions** (Ctrl + Shift + X).\n",
    "   - Busca \"Kotlin\" e instala la extensión oficial.\n",
    "\n",
    "2. **Configurar el compilador de Kotlin**:\n",
    "   - Descarga el compilador de Kotlin desde [kotlinlang.org](https://kotlinlang.org/).\n",
    "   - Agrega la ruta del compilador a las variables de entorno de tu sistema.\n",
    "\n",
    "3. **Crear un proyecto Kotlin**:\n",
    "   - Crea una carpeta para tu proyecto.\n",
    "   - Abre la carpeta en VSCode.\n",
    "   - Crea un archivo `.kt` (por ejemplo, `Main.kt`).\n",
    "\n",
    "4. **Ejecutar el código Kotlin**:\n",
    "   - Usa la terminal integrada de VSCode para compilar y ejecutar tu código:\n",
    "     ```bash\n",
    "     kotlinc Main.kt -include-runtime -d Main.jar\n",
    "     java -jar Main.jar\n",
    "     ```\n"
   ]
  },
  {
   "cell_type": "markdown",
   "metadata": {},
   "source": [
    "## **Sintaxis básica de Kotlin**\n",
    "\n",
    "| **Concepto**               | **Sintaxis**                                                                 | **Ejemplo**                                                                 |\n",
    "|----------------------------|-----------------------------------------------------------------------------|-----------------------------------------------------------------------------|\n",
    "| **Declaración de Variables** | `val` (inmutable) / `var` (mutable)                                        | `val nombre = \"Kotlin\"`<br>`var edad = 25`                                 |\n",
    "| **Tipos de Datos**          | `Int`, `String`, `Boolean`, `Double`, etc.                                 | `val numero: Int = 10`<br>`val esActivo: Boolean = true`                   |\n",
    "| **Funciones**               | `fun nombreFuncion(parametro: Tipo): TipoRetorno { ... }`                   | `fun sumar(a: Int, b: Int): Int { return a + b }`                          |\n",
    "| **Funciones de Una Línea**  | `fun nombreFuncion(parametro: Tipo) = expresión`                           | `fun sumar(a: Int, b: Int) = a + b`                                        |\n",
    "| **Condicionales**           | `if (condición) { ... } else { ... }`                                      | `if (edad > 18) { println(\"Mayor de edad\") } else { println(\"Menor\") }`    |\n",
    "| **When (Switch)**           | `when (variable) { valor1 -> ... valor2 -> ... else -> ... }`               | `when (x) { 1 -> print(\"x es 1\") 2 -> print(\"x es 2\") else -> print(\"...\") }` |\n",
    "| **Bucles**                  | `for (item in colección) { ... }`<br>`while (condición) { ... }`            | `for (i in 1..5) { println(i) }`<br>`while (x > 0) { x-- }`                |\n",
    "| **Colecciones**             | `List`, `Set`, `Map`                                                       | `val lista = listOf(1, 2, 3)`<br>`val mapa = mapOf(\"a\" to 1, \"b\" to 2)`    |\n",
    "| **Clases**                  | `class NombreClase { ... }`                                                | `class Persona(val nombre: String, var edad: Int)`                         |\n",
    "| **Null Safety**             | `?` (nullable), `!!` (non-null assertion), `?.` (safe call)                | `val nombre: String? = null`<br>`println(nombre?.length)`                  |\n",
    "| **Extension Functions**     | `fun Tipo.nombreFuncion() { ... }`                                         | `fun String.esVacia() = this.isEmpty()`                                    |\n",
    "| **Lambdas**                 | `{ parametros -> cuerpo }`                                                | `val suma = { a: Int, b: Int -> a + b }`                                   |"
   ]
  },
  {
   "cell_type": "markdown",
   "metadata": {},
   "source": [
    "## **Ejemplo de código en Kotlin**\n",
    "\n",
    "En este ejemplo se imprimirá un \"¡Hola, Mundo!\":\n",
    "\n",
    "```kotlin\n",
    "fun main() {\n",
    "    println(\"¡Hola, Mundo!\")\n",
    "}"
   ]
  },
  {
   "cell_type": "markdown",
   "metadata": {},
   "source": [
    "---"
   ]
  },
  {
   "cell_type": "markdown",
   "metadata": {},
   "source": [
    "## **Referencias**\n",
    "\n",
    "- https://kotlinlang.org\n",
    "- https://www.plainconcepts.com/es/kotlin-android/\n",
    "- https://kotlinlang.org/docs/basic-syntax.html"
   ]
  }
 ],
 "metadata": {
  "language_info": {
   "name": "python"
  }
 },
 "nbformat": 4,
 "nbformat_minor": 2
}
