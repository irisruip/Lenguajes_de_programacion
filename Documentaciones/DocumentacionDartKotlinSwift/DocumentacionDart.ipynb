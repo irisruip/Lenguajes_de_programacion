{
 "cells": [
  {
   "cell_type": "markdown",
   "metadata": {},
   "source": [
    "<div style=\"display: flex; align-items: center;\">\n",
    "  <img src=\"data:image/svg+xml;base64,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\" width=\"60\" height=\"60\" style=\"margin-right: 10px;\">\n",
    "  <h1 style=\"margin: 0;\"><b>Dart</b></h1>\n",
    "</div>\n",
    "\n",
    "**Dart** es un lenguaje de programación desarrollado por Google. Fue lanzado en 2011 y está diseñado para ser rápido, productivo y escalable. Dart es un lenguaje **orientado a objetos** y **compilado**, lo que significa que el código se convierte en código nativo antes de ejecutarse, lo que lo hace muy eficiente."
   ]
  },
  {
   "cell_type": "markdown",
   "metadata": {},
   "source": [
    "### **¿Cómo se obtiene Dart?**\n",
    "\n",
    "Dart se puede instalar de varias formas, pero la más común es junto con **Flutter**, ya que Flutter incluye Dart en su instalación.\n"
   ]
  },
  {
   "cell_type": "markdown",
   "metadata": {},
   "source": [
    "### Instalación de Dart:\n",
    "1. **Con Flutter**:\n",
    "   - Al instalar Flutter, Dart se instala automáticamente.\n",
    "   - Descarga Flutter desde [flutter.dev](https://flutter.dev).\n",
    "   - Ejecuta `flutter doctor` para verificar que Dart esté instalado correctamente.\n",
    "\n",
    "2. **Instalación independiente**:\n",
    "   - Si solo deseas Dart, puedes descargarlo desde [dart.dev](https://dart.dev).\n",
    "   - Sigue las instrucciones para tu sistema operativo (Windows, macOS, Linux).\n",
    "\n",
    "### Verificar la instalación:\n",
    "- Ejecuta el siguiente comando en la terminal:\n",
    "  ```bash\n",
    "  dart --version"
   ]
  },
  {
   "cell_type": "markdown",
   "metadata": {},
   "source": [
    "## **Características principales de Dart:**\n",
    "- **Orientado a objetos**: Soporta clases, herencia, interfaces y mixins.\n",
    "- **Tipado estático**: Aunque también permite tipado dinámico con `dynamic`.\n",
    "- **Compilación AOT (Ahead-of-Time) y JIT (Just-in-Time)**:\n",
    "  - **AOT**: Compila el código a código nativo para mejorar el rendimiento en producción.\n",
    "  - **JIT**: Permite recargar en caliente (hot reload) durante el desarrollo.\n",
    "- **Garbage collection**: Gestión automática de memoria.\n",
    "- **Asincronía**: Soporta `async` y `await` para operaciones asíncronas.\n"
   ]
  },
  {
   "cell_type": "markdown",
   "metadata": {},
   "source": [
    "### **¿Para qué se usa Dart?**\n",
    "- **Desarrollo de aplicaciones móviles**: Dart es el lenguaje principal de **Flutter**, un framework para crear aplicaciones multiplataforma.\n",
    "- **Desarrollo web**: Dart puede compilarse a JavaScript para aplicaciones web.\n",
    "- **Scripting**: Dart puede usarse para scripts y herramientas de línea de comandos."
   ]
  },
  {
   "cell_type": "markdown",
   "metadata": {},
   "source": [
    "### **Sintaxis Básica de Dart**\n",
    "\n",
    "A continuación, se presenta una tabla resumen con la sintaxis básica de Dart.\n"
   ]
  },
  {
   "cell_type": "markdown",
   "metadata": {},
   "source": [
    "### Comentarios\n",
    "\n",
    "| Sintaxis          | Descripción                                                                 |\n",
    "|-------------------|-----------------------------------------------------------------------------|\n",
    "| `// Comentario`   | Comentario de una línea                                                    |\n",
    "| `/* Comentario */`| Comentario de múltiples líneas                                             |\n",
    "| `/// Comentario`  | Comentario de documentación (usado para generar documentación automática)  |\n"
   ]
  },
  {
   "cell_type": "markdown",
   "metadata": {},
   "source": [
    "### Declaración de Variables y Tipos de Datos\n",
    "\n",
    "| Sintaxis                          | Descripción                                                                 |\n",
    "|-----------------------------------|-----------------------------------------------------------------------------|\n",
    "| var x = 10;                     | Declara una variable con tipo inferido (`int` en este caso)                |\n",
    "| int x = 10;                     | Declara una variable de tipo entero                                        |\n",
    "| double y = 3.14;                | Declara una variable de tipo double (números decimales)                    |\n",
    "| String name = \"Dart\";           | Declara una variable de tipo cadena de texto                               |\n",
    "| bool isTrue = true;             | Declara una variable de tipo booleano                                      |\n",
    "| List<int> numbers = [1, 2, 3];  | Declara una lista de enteros                                               |\n",
    "| Map<String, int> ages = {'Alice': 25, 'Bob': 30}; | Declara un mapa (diccionario)                              |"
   ]
  },
  {
   "cell_type": "markdown",
   "metadata": {},
   "source": [
    "### Operadores y Expresiones\n",
    "\n",
    "| Operador               | Nombre                                                                           |\n",
    "|------------------------|-----------------------------------------------------------------------------------|\n",
    "| +                    | Suma                                                                             |\n",
    "| -                    | Resta                                                                            |\n",
    "| *                    | Multiplicación                                                                   |\n",
    "| /                    | División                                                                         |\n",
    "| %                    | Módulo                                                                           |\n",
    "| ++                   | Incremento                                                                       |\n",
    "| --                   | Decremento                                                                       |\n",
    "| ==                   | Igual                                                                            |\n",
    "| !=                   | No igual                                                                         |\n",
    "| >                    | Mayor                                                                            |\n",
    "| <                    | Menor                                                                            |\n",
    "| >=                   | Mayor o igual                                                                    |\n",
    "| <=                  | Menor o igual                                                                    |\n",
    "| &&                   | AND lógico                                                                       |\n",
    "| ll                   | OR lógico                                                                        |\n",
    "| !                    | NOT lógico                                                                       |\n"
   ]
  },
  {
   "cell_type": "markdown",
   "metadata": {},
   "source": [
    "### Condicionales\n",
    "\n",
    "| Sintaxis                          | Descripción                                                                 |\n",
    "|-----------------------------------|-----------------------------------------------------------------------------|\n",
    "| if (condición) { ... }          | Ejecuta un bloque si la condición es verdadera                             |\n",
    "| else if (condición) { ... }     | Ejecuta un bloque si la condición anterior es falsa y esta es verdadera    |\n",
    "| else { ... }                    | Ejecuta un bloque si todas las condiciones anteriores son falsas           |\n",
    "| switch (valor) { case x: ... }  | Ejecuta un bloque dependiendo del valor de la variable                     |"
   ]
  },
  {
   "cell_type": "markdown",
   "metadata": {},
   "source": [
    "### Bucles\n",
    "\n",
    "| Sintaxis                          | Descripción                                                                 |\n",
    "|-----------------------------------|-----------------------------------------------------------------------------|\n",
    "| for (var i = 0; i < 5; i++) { ... }          | Bucle `for` clasico                             |\n",
    "| for (var item in lista) { ... }     | Bucle `for-in` para iterar sobre colecciones    |\n",
    "| while (condición) { ... }                   | Bucle `while` que se ejecuta mientras la condición sea verdadera           |\n",
    "| do { ... } while (condición);  | Bucle `do-while` que se ejecuta al menos una vez                     |"
   ]
  },
  {
   "cell_type": "markdown",
   "metadata": {},
   "source": [
    "### Funciones\n",
    "\n",
    "| Sintaxis                          | Descripción                                                                 |\n",
    "|-----------------------------------|-----------------------------------------------------------------------------|\n",
    "| void funcion() { ... }          | Declara una función que no retorna ningun valor                        |\n",
    "| int suma(int a, int b) { ... }     | Declara una función que retorna un valor    |\n",
    "| (a, b) => a + b;                    | Función flecha (sintaxis abreviada para funciones de una línea)           |"
   ]
  },
  {
   "cell_type": "markdown",
   "metadata": {},
   "source": [
    "### Ejemplo código en Dart"
   ]
  },
  {
   "cell_type": "code",
   "execution_count": null,
   "metadata": {
    "vscode": {
     "languageId": "plaintext"
    }
   },
   "outputs": [],
   "source": [
    "void main() {\n",
    "  //Comentario de una línea\n",
    "  var x = 10; //Tipo inferido\n",
    "  int y = 20; //Tipo explícito\n",
    "\n",
    "  //Condicional\n",
    "  if (x > y) {\n",
    "    print(\"x es mayor que y\");\n",
    "  } else {\n",
    "    print(\"y es mayor o igual a x\");\n",
    "  }\n",
    "\n",
    "  //Bucle\n",
    "  for (var i = 0; i < 3; i++) {\n",
    "    print(\"Iteración $i\");\n",
    "  }\n",
    "\n",
    "  //Función\n",
    "  int suma(int a, int b) {\n",
    "    return a + b;\n",
    "  }\n",
    "  print(suma(x, y)); //Salida: 30\n",
    "}"
   ]
  },
  {
   "cell_type": "markdown",
   "metadata": {},
   "source": [
    "*Este código no se ejecutó debido a que no se consiguió ningún Kernel de Dart para Jupyter Notebook*\n",
    "\n",
    "---"
   ]
  },
  {
   "cell_type": "markdown",
   "metadata": {},
   "source": [
    "<div style=\"display: flex; align-items: center;\">\n",
    "  <img src=\"data:image/svg+xml;base64,PHN2ZyB4bWxucz0iaHR0cDovL3d3dy53My5vcmcvMjAwMC9zdmciIHByZXNlcnZlQXNwZWN0UmF0aW89InhNaWRZTWlkIiB2aWV3Qm94PSIwIDAgMjU2IDMxNyI+DQogIDxkZWZzPg0KICAgIDxsaW5lYXJHcmFkaWVudCB4MT0iNCUiIHkxPSIyNyUiIHgyPSI3NS45JSIgeTI9IjUyLjklIiBpZD0iYSI+DQogICAgICA8c3RvcCBvZmZzZXQ9IjAlIi8+DQogICAgICA8c3RvcCBzdG9wLW9wYWNpdHk9IjAiIG9mZnNldD0iMTAwJSIvPg0KICAgIDwvbGluZWFyR3JhZGllbnQ+DQogIDwvZGVmcz4NCiAgPHBhdGggZmlsbD0iIzQ3QzVGQiIgZD0iTTE1OCAwIDAgMTU4bDQ5IDQ4TDI1NSAwek0xNTcgMTQ1bC04NSA4NSA0OSA1MCA0OS00OSA4NS04NnoiLz4NCiAgPHBhdGggZmlsbD0iIzAwNTY5RSIgZD0ibTEyMSAyODAgMzcgMzdoOTdsLTg1LTg2eiIvPg0KICA8cGF0aCBmaWxsPSIjMDBCNUY4IiBkPSJtNzIgMjMwIDQ4LTQ4IDUwIDQ5LTQ5IDQ5eiIvPg0KICA8cGF0aCBmaWxsLW9wYWNpdHk9Ii44IiBmaWxsPSJ1cmwoI2EpIiBkPSJtMTIxIDI4MCA0MS0xNCA0LTMxeiIvPg0KPC9zdmc+\" width=\"60\" height=\"60\" style=\"margin-right: 10px;\">\n",
    "  <h1 style=\"margin: 0;\"><b>Flutter</b></h1>\n",
    "</div>\n",
    "\n",
    "Flutter es un **framework de desarrollo multiplataforma** creado por Google. Permite crear aplicaciones nativas para **iOS, Android, Web, Windows, macOS y Linux** desde un solo código base."
   ]
  },
  {
   "cell_type": "markdown",
   "metadata": {},
   "source": [
    "### **¿Cómo se usa junto a Dart?**\n",
    "- **Dart** es el lenguaje de programación oficial de Flutter.\n",
    "- Flutter usa Dart para definir la lógica de la aplicación, la interfaz de usuario (mediante widgets) y la interacción con el sistema operativo.\n",
    "- Dart es **compilado a código nativo**, lo que garantiza un alto rendimiento."
   ]
  },
  {
   "cell_type": "markdown",
   "metadata": {},
   "source": [
    "### **Ventajas y Desventajas de Dart**\n",
    "\n",
    "| **Ventajas**                        | **Desventajas**                  |\n",
    "|-------------------------------------|----------------------------------|\n",
    "| **Rendimiento**: Compilación AOT (a código nativo) y JIT (para desarrollo rápido). | **Menos popular**: No tan extendido como JavaScript o Python. |\n",
    "| **Productividad**: Sintaxis sencilla y hot reload. | **Ecosistema limitado**: Menos bibliotecas y frameworks comparado con otros lenguajes. |\n",
    "| **Flexibilidad**: Usado para móvil, web y scripting. | |"
   ]
  },
  {
   "cell_type": "markdown",
   "metadata": {},
   "source": [
    "### **Ventajas y Desventajas de Flutter**\n",
    "\n",
    "| **Ventajas**                        | **Desventajas**                  |\n",
    "|-------------------------------------|----------------------------------|\n",
    "| **Multiplataforma**: Un solo código base para iOS, Android, web y más. | **Tamaño de la app**: Las aplicaciones pueden ser más grandes que las nativas. |\n",
    "| **Widgets personalizables**: Interfaces de usuario únicas y flexibles. | **Curva de aprendizaje**: Requiere entender conceptos como widgets y estado. |\n",
    "| **Hot Reload**: Cambios en tiempo real sin reiniciar la app. | |\n",
    "| **Comunidad activa**: Gran soporte y documentación. | |"
   ]
  },
  {
   "cell_type": "markdown",
   "metadata": {},
   "source": [
    "### **Aplicaciones destacadas**\n",
    "- **Con Flutter**: Google Ads, Alibaba, Reflectly, Hamilton (App Oficial del Musical de Hamilton).\n",
    "- **Con Dart**: AngularDart (web) y scripting.\n",
    "\n",
    "\n"
   ]
  },
  {
   "cell_type": "markdown",
   "metadata": {},
   "source": [
    "## **Experiencia con App de Ejemplo**\n",
    "\n",
    "### **1. Inicio del Proyecto**\n",
    "El proyecto comenzó con la idea de crear una aplicación móvil utilizando **Flutter**. Flutter permite desarrollar aplicaciones para iOS, Android, web y más, utilizando un solo código base escrito en **Dart**.\n",
    "\n",
    "### **2. Configuración del Entorno**\n",
    "- **Instalación de Flutter**: Lo primero fue instalar Flutter en mi sistema operativo (Windows) y configurar las variables de entorno necesarias.\n",
    "- **Configuración del Android SDK**: En lugar de usar Android Studio, descargué el **Android SDK Command-line Tools** desde la página oficial de Android. Configuré las variables de entorno para que Flutter pudiera encontrar el SDK.\n",
    "- **Creación del Proyecto**: Usé el comando `flutter create nombre_del_proyecto` para generar la estructura básica del proyecto.\n",
    "\n",
    "### **3. Desarrollo de la Aplicación**\n",
    "- **Diseño de la Interfaz**: Utilicé **widgets** de Flutter para diseñar la interfaz de usuario. Flutter ofrece una amplia gama de widgets personalizables, lo que permitió crear una interfaz atractiva y funcional.\n",
    "- **Lógica de la Aplicación**: Implementé la lógica de la aplicación utilizando **Dart**.\n",
    "- **Pruebas en Dispositivos**: Durante el desarrollo, probé la aplicación en un **dispositivo físico** conectado a mi computadora.\n",
    "\n",
    "### **4. Configuración del Teléfono para Debugging**\n",
    "- **Permisos de Administrador**: Para poder instalar la aplicación en mi teléfono, tuve que habilitar la opción de **Fuentes Desconocidas** en los ajustes de seguridad del dispositivo.\n",
    "- **Autorización de Depuración por USB**: Conecté mi teléfono a la computadora mediante un cable USB y habilité la opción de **Depuración por USB** en las opciones de desarrollador del teléfono. Esto permitió que Flutter reconociera el dispositivo y pudiera instalar la aplicación directamente desde la terminal.\n",
    "\n",
    "### **5. Personalización de la Aplicación**\n",
    "- **Ícono de la Aplicación**: Usé el paquete `flutter_launcher_icons` para generar un ícono personalizado para la aplicación. Esto implicó crear un archivo de imagen y configurarlo en el archivo `pubspec.yaml`.\n",
    "- **Nombre de la Aplicación**: Cambié el nombre de la aplicación editando el archivo `AndroidManifest.xml` en la carpeta `android/app/src/main`.\n",
    "\n",
    "### **6. Generación de la APK**\n",
    "- **Modo Release**: Para generar la APK, ejecuté el comando `flutter build apk` en la terminal. Este comando compila el código de la aplicación en modo **release**, optimizándolo para su distribución.\n",
    "- **Instalación en el Teléfono**: Una vez generada la APK, la transferí a mi teléfono Android y la instalé para probarla en un entorno real.\n",
    "\n",
    "### **7. Problemas**\n",
    "- **Problemas con Gradle**: Durante la generación de la APK, encontré algunos problemas relacionados con Gradle. Para solucionarlos, limpié el caché de Gradle con el comando `gradlew clean` y aumenté la memoria asignada a Gradle en el archivo `gradle.properties`.\n",
    "- **Tamaño de la APK**: Noté que la APK generada era más grande de lo esperado. Para reducir su tamaño, usé el comando `flutter build apk --split-per-abi`, que genera APKs separadas para cada arquitectura de CPU.\n",
    "\n",
    "### **8. Imágenes del Código**\n",
    "A continuación, se muestran algunas capturas de pantalla del código y la interfaz de la aplicación:\n",
    "\n",
    "1. **Estructura del Proyecto**:\n",
    "\n",
    "   ![Estructura del Proyecto Dart](./img/estructuraDart.png)\n",
    "\n",
    "2. **Código Principal**:\n",
    "   ![Código Principal](./img/codigoDart.png)\n",
    "\n",
    "3. **Interfaz de Usuario**:\n",
    "\n",
    "   <img src=\"./img/interfaz.jpeg\" width=\"200\">\n",
    "\n",
    "\n",
    "---"
   ]
  },
  {
   "cell_type": "markdown",
   "metadata": {},
   "source": [
    "## **Referencias**\n",
    "\n",
    "- https://docs.flutter.dev\n",
    "- https://dart.dev\n",
    "- https://www.hiberus.com/crecemos-contigo/que-es-el-lenguaje-de-programacion-dart/\n",
    "- https://medium.com/@carloslopez_19744/%EF%B8%8F-fundamentos-del-lenguaje-dart-2803fa20556b\n",
    "- https://esflutter.dev/showcase/"
   ]
  }
 ],
 "metadata": {
  "language_info": {
   "name": "python"
  }
 },
 "nbformat": 4,
 "nbformat_minor": 2
}
