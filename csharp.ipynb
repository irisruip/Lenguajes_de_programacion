{
 "cells": [
  {
   "cell_type": "markdown",
   "metadata": {},
   "source": [
    "<h1>Sintaxis Básica de C#</h1>"
   ]
  },
  {
   "cell_type": "markdown",
   "metadata": {},
   "source": [
    "<h3>Definición</h3>"
   ]
  },
  {
   "cell_type": "markdown",
   "metadata": {},
   "source": [
    "<h5>C# es un lenguaje de programación moderno y versátil, creado por Microsoft. Se ha convertido en uno de los lenguajes más populares y ampliamente utilizados en la industria del desarrollo de software.</h5>"
   ]
  },
  {
   "cell_type": "markdown",
   "metadata": {},
   "source": [
    "<h3>Caracteristicas</h3>"
   ]
  },
  {
   "cell_type": "markdown",
   "metadata": {},
   "source": [
    "<h5>\n",
    "1. Orientado a objetos: C# sigue el paradigma de programación orientada a objetos (POO), lo que significa que se basa en el concepto de \"objetos\" que combinan datos y funcionalidades. Esto facilita la organización y reutilización del código.\n",
    "</h5>\n",
    "\n",
    "<h5>\n",
    "2. Tipado estático: C# es un lenguaje de tipado estático, lo que significa que el tipo de cada variable se define en tiempo de compilación. Esto ayuda a detectar errores en las primeras etapas del desarrollo.\n",
    "</h5>\n",
    "\n",
    "<h5>\n",
    "3. Multiplataforma: Aunque fue desarrollado originalmente para la plataforma .NET de Microsoft, C# ahora es compatible con múltiples plataformas gracias a .NET Core y .NET (la evolución de .NET Core). Esto permite desarrollar aplicaciones para Windows, macOS, Linux, iOS, Android y más.\n",
    "</h5>\n",
    "\n",
    "<h5>\n",
    "4. Sintaxis clara y moderna: C# tiene una sintaxis clara y concisa, inspirada en lenguajes como C y C++, pero con mejoras que facilitan la lectura y escritura del código.\n",
    "</h5>\n",
    "\n",
    "<h5>\n",
    "5. Potente y versátil: C# se puede utilizar para desarrollar una amplia variedad de aplicaciones, desde aplicaciones de escritorio y web hasta juegos, aplicaciones móviles y más.\n",
    "</h5>\n",
    "\n",
    "<h5>\n",
    "6. Gran comunidad y soporte: C# cuenta con una gran comunidad de desarrolladores y un amplio soporte por parte de Microsoft, lo que facilita encontrar recursos, documentación y ayuda en caso de necesidad.\n",
    "</h5>"
   ]
  },
  {
   "cell_type": "markdown",
   "metadata": {},
   "source": [
    "<h3>Sintaxis</h3>"
   ]
  },
  {
   "cell_type": "markdown",
   "metadata": {},
   "source": [
    "<h4>1. Tipos de datos</h4>"
   ]
  },
  {
   "cell_type": "markdown",
   "metadata": {},
   "source": [
    "<h5>Tipos comunes:</h5>\n",
    "<h5>- int: Números enteros.</h5>\n",
    "<h5>- float: Números decimales de precisión simple.</h5>\n",
    "<h5>- double: Números decimales de doble precisión.</h5>\n",
    "<h5>- char: Caracteres individuales.</h5>\n",
    "<h5>- bool: Valores booleanos (verdadero o falso).</h5>\n",
    "<h5>- string: Cadenas de texto.</h5>"
   ]
  },
  {
   "cell_type": "markdown",
   "metadata": {},
   "source": [
    "<h4>2. Variables</h4>"
   ]
  },
  {
   "cell_type": "markdown",
   "metadata": {},
   "source": [
    "<h5>Declaración: Se especifica el tipo de dato seguido del nombre de la variable y, opcionalmente, un valor inicial.</h5>"
   ]
  },
  {
   "cell_type": "code",
   "execution_count": null,
   "metadata": {
    "vscode": {
     "languageId": "plaintext"
    }
   },
   "outputs": [],
   "source": [
    "int edad = 30;\n",
    "string nombre; // Declaración sin inicializar\n",
    "nombre = \"Juan\"; // Asignación posterior"
   ]
  },
  {
   "cell_type": "markdown",
   "metadata": {},
   "source": [
    "<h4>3. Operadores</h4>"
   ]
  },
  {
   "cell_type": "markdown",
   "metadata": {},
   "source": [
    "<h5>Tipos comunes:</h5>\n",
    "<h5>- Aritméticos: + (suma), - (resta), * (multiplicación), / (división), % (resto).</h5>\n",
    "<h5>- De asignación: = (asignación), += (suma y asignación), -= (resta y asignación), etc.</h5>\n",
    "<h5>- De comparación: == (igual), != (diferente), > (mayor que), < (menor que), >= (mayor o igual que), <= (menor o igual que).</h5>\n",
    "<h5>- Lógicos: && (AND), || (OR), ! (NOT).</h5>"
   ]
  },
  {
   "cell_type": "markdown",
   "metadata": {},
   "source": [
    "<h4>4. Estructuras de control</h4>"
   ]
  },
  {
   "cell_type": "markdown",
   "metadata": {},
   "source": [
    "<h5>Tipos comunes:</h5>\n",
    "<h5>- Condicionales: if, else if, else.</h5>\n",
    "<h5>- Bucles: for, while, do-while.</h5>\n",
    "<h5>- Sentencia de selección: switch.</h5>"
   ]
  },
  {
   "cell_type": "markdown",
   "metadata": {},
   "source": [
    "<h4>5. Comentarios</h4>"
   ]
  },
  {
   "cell_type": "markdown",
   "metadata": {},
   "source": [
    "<h5>Tipos:</h5>"
   ]
  },
  {
   "cell_type": "code",
   "execution_count": null,
   "metadata": {
    "vscode": {
     "languageId": "plaintext"
    }
   },
   "outputs": [],
   "source": [
    "//para comentarios de una línea.\n",
    "\n",
    "/*Para comentarios \n",
    "de varias líneas.*/ "
   ]
  },
  {
   "cell_type": "markdown",
   "metadata": {},
   "source": [
    "<h3>Ejemplo completo</h3>"
   ]
  },
  {
   "cell_type": "code",
   "execution_count": null,
   "metadata": {
    "vscode": {
     "languageId": "plaintext"
    }
   },
   "outputs": [],
   "source": [
    "using System;\n",
    "\n",
    "namespace MiPrimerPrograma \n",
    "{\n",
    "  class Program \n",
    "  {\n",
    "    static void Main(string[] args) \n",
    "    {\n",
    "      int edad = 30;\n",
    "      string nombre = \"Juan\";\n",
    "\n",
    "      Console.WriteLine(\"Hola, mi nombre es \" + nombre + \" y tengo \" + edad + \" años.\");\n",
    "    }\n",
    "  }\n",
    "}"
   ]
  }
 ],
 "metadata": {
  "language_info": {
   "name": "python"
  }
 },
 "nbformat": 4,
 "nbformat_minor": 2
}
